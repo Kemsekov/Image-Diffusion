{
 "cells": [
  {
   "cell_type": "code",
   "execution_count": 1,
   "metadata": {},
   "outputs": [],
   "source": [
    "# !git clone https://github.com/Kemsekov/kemsekov_torch"
   ]
  },
  {
   "cell_type": "code",
   "execution_count": 2,
   "metadata": {},
   "outputs": [
    {
     "name": "stdout",
     "output_type": "stream",
     "text": [
      "19917 \n"
     ]
    },
    {
     "data": {
      "image/jpeg": "[encoded data removed]",
      "image/png": "[encoded data removed]",
      "text/plain": [
       "<PIL.Image.Image image mode=RGB size=64x64>"
      ]
     },
     "metadata": {},
     "output_type": "display_data"
    }
   ],
   "source": [
    "# load dataset for diffusion model to learn\n",
    "import os\n",
    "import PIL\n",
    "import numpy as np\n",
    "import torch\n",
    "import torch.nn as nn\n",
    "import random\n",
    "from kemsekov_torch.train import split_dataset\n",
    "import torchvision.transforms as T\n",
    "\n",
    "# if some images have alpha we replace it with zeros\n",
    "def process_alpha_image(img):\n",
    "    # Open the image and convert to RGB from RGBA\n",
    "    img_array = np.array(img)\n",
    "    if len(img_array.shape)<3: return img\n",
    "    if img_array.shape[-1]<4: \n",
    "        return img\n",
    "    # Split into channels\n",
    "    r, g, b, a = img_array[:, :, 0], img_array[:, :, 1], img_array[:, :, 2], img_array[:, :, 3]\n",
    "    \n",
    "    # Set RGB to 0 where alpha is 0\n",
    "    r[a == 0] = 0\n",
    "    g[a == 0] = 0\n",
    "    b[a == 0] = 0\n",
    "    \n",
    "    # Create new RGB image array\n",
    "    new_img_array = np.dstack((r, g, b)).astype(np.uint8)\n",
    "    \n",
    "    # Convert back to PIL Image and return\n",
    "    return PIL.Image.fromarray(new_img_array)\n",
    "\n",
    "class JustImagesDataset(torch.utils.data.Dataset):\n",
    "    def __init__(self, images_folder, image_transform=None):\n",
    "        super().__init__()\n",
    "        allowed_formats = ['.png', '.jpg', '.jpeg', '.webp']\n",
    "        self.images = []\n",
    "        for root, _, files in os.walk(images_folder):\n",
    "            self.images.extend(os.path.join(root, v) for v in files if any([v.endswith(f) for f in allowed_formats]))\n",
    "        self.transform = nn.Identity() if image_transform is None else image_transform\n",
    "        \n",
    "    def __getitem__(self, index):\n",
    "        im = self.images[index]\n",
    "        im = PIL.Image.open(im)\n",
    "        im = process_alpha_image(im)\n",
    "        im = self.transform(im)\n",
    "        return im, ''\n",
    "    \n",
    "    def __len__(self): return len(self.images)\n",
    "\n",
    "# if some images are grayscale we map them to grayscale rgb\n",
    "def add_dim(x):\n",
    "    if len(x.shape)<3: return x[None,:][[0,0,0]]\n",
    "    if x.shape[0]==1: return x[[0,0,0]]\n",
    "    return x\n",
    "\n",
    "IM_SIZE=64\n",
    "transform = T.Compose([\n",
    "    T.ToTensor(),\n",
    "    T.RandomHorizontalFlip(),\n",
    "    T.Resize(IM_SIZE),\n",
    "    T.RandomCrop((IM_SIZE,IM_SIZE)),\n",
    "    T.Lambda(add_dim)\n",
    "])\n",
    "\n",
    "PATH_TO_IMAGES='/home/vlad/Documents/cat-dogs/'\n",
    "dataset = JustImagesDataset(PATH_TO_IMAGES,transform)\n",
    "\n",
    "batch_size=32\n",
    "train_dataset,test_dataset,train_loader, test_loader = split_dataset(dataset,batch_size=batch_size,test_size=0.05)\n",
    "\n",
    "ind = random.randint(0,len(dataset)-1)\n",
    "# ind = 315\n",
    "im,desc = dataset[ind]\n",
    "print(ind,desc)\n",
    "display(T.ToPILImage()(im))"
   ]
  },
  {
   "cell_type": "code",
   "execution_count": 3,
   "metadata": {},
   "outputs": [],
   "source": [
    "# define diffusion model\n",
    "from kemsekov_torch.diffusion import DiffusionUtils, sample\n",
    "from kemsekov_torch.residual import Residual, ResidualBlock\n",
    "from kemsekov_torch.attention import LinearSelfAttentionBlock, FlattenSpatialDimensions\n",
    "from kemsekov_torch.rotary_emb import RotaryEmbInplace\n",
    "from kemsekov_torch.positional_emb import ConcatPositionalEmbeddingPermute, PositionalEncodingPermute\n",
    "\n",
    "class TimeContextEmbedding(torch.nn.Module):\n",
    "    def __init__(self,in_channels,dimensions=2,max_timesteps=1024):\n",
    "        \"\"\"\n",
    "        Layer that combines input x and timestep .\n",
    "        \n",
    "        in_channels: input channels\n",
    "        \n",
    "        dimensions: input/context spatial dimensions count\n",
    "        \n",
    "        max_timesteps: this parameter defines max timestep input value.\n",
    "        \"\"\"\n",
    "        super().__init__()\n",
    "        self.combine_x_time = [nn.Conv1d,nn.Conv2d,nn.Conv3d][dimensions-1](2*in_channels,in_channels,kernel_size=1)\n",
    "        x=torch.randn((1,in_channels,max_timesteps,1))\n",
    "        time = PositionalEncodingPermute(in_channels,freq=max_timesteps)(x)\n",
    "        time = time[0].transpose(0,1)[...,0]\n",
    "        self.time_emb = torch.nn.Parameter(time)\n",
    "        \n",
    "    def forward(self,x,timestep):\n",
    "        \"\"\"\n",
    "        x: input of shape (B,C,...) where ... is spatial dimensions\n",
    "        timestep: long tensor of shape (B). It is a timestep for each element in batch.\n",
    "        \"\"\"\n",
    "        time = self.time_emb[timestep.cpu()].to(x.device)\n",
    "        dims = list(time.shape)+[1]*(len(x.shape)-2)\n",
    "        time=time.view(dims).expand_as(x)\n",
    "        x_t = self.combine_x_time(torch.concat([x,time],1))\n",
    "        return x_t\n",
    "\n",
    "class DiffusionBlock(torch.nn.Module):\n",
    "    \"\"\"\n",
    "    Diffusion unet block, that combines downsample/upsample operation and linear transformer blocks\n",
    "    \"\"\"\n",
    "    def __init__(self,in_channels,out_channels,transformer_blocks = 0,residual_blocks=2,attn_heads=8,max_timesteps=64,normalization='batch',dimensions=2):\n",
    "        super().__init__()\n",
    "        mlp_dim=out_channels*2\n",
    "        self.down = ResidualBlock(\n",
    "            in_channels,\n",
    "            out_channels,\n",
    "            kernel_size=4,\n",
    "            stride=2,\n",
    "            dimensions=dimensions,\n",
    "            normalization=normalization,\n",
    "        )\n",
    "        \n",
    "        self.residual_blocks = Residual(\n",
    "            [\n",
    "                ResidualBlock(\n",
    "                    out_channels,\n",
    "                    [mlp_dim,out_channels],\n",
    "                    kernel_size=3,\n",
    "                    stride=1,\n",
    "                    dimensions=dimensions,\n",
    "                    normalization=normalization,\n",
    "                )\n",
    "                for i in range(residual_blocks)\n",
    "            ]\n",
    "        )\n",
    "        \n",
    "        self.embed_context_to_down = TimeContextEmbedding(out_channels,dimensions,max_timesteps)\n",
    "        if transformer_blocks>0:\n",
    "            # add self attention with rotary embedding optimized for pixel data\n",
    "            self.sa = Residual([\n",
    "                RotaryEmbInplace(out_channels,freqs_for='pixel'),\n",
    "                FlattenSpatialDimensions([\n",
    "                    LinearSelfAttentionBlock(out_channels,mlp_dim,attn_heads)\n",
    "                    for i in range(transformer_blocks)\n",
    "                ])\n",
    "            ])\n",
    "        else:\n",
    "            self.sa = torch.nn.Identity()\n",
    "        \n",
    "    def forward(self,x,time):\n",
    "        xt = self.down(x)\n",
    "        xt = self.embed_context_to_down(xt,time)\n",
    "        xt = self.sa(xt)\n",
    "        xt = self.residual_blocks(xt)\n",
    "        return xt\n",
    "    \n",
    "    def transpose(self):\n",
    "        self.down = self.down.transpose()\n",
    "        return self\n",
    "\n",
    "class Diffusion(torch.nn.Module):\n",
    "    def __init__(self, in_channels,max_timesteps=1024):\n",
    "        super().__init__()\n",
    "        common = dict(\n",
    "            normalization='batch',\n",
    "            attn_heads = 16,\n",
    "            dimensions = 2,\n",
    "            max_timesteps=max_timesteps,\n",
    "            residual_blocks=2,\n",
    "        )\n",
    "        \n",
    "        scale = 1\n",
    "        self.dimensions = common['dimensions']\n",
    "        self.in_channels=in_channels\n",
    "        self.down1 = DiffusionBlock(in_channels,64*scale,transformer_blocks=1,**common)\n",
    "        self.down2 = DiffusionBlock(64*scale,128*scale,transformer_blocks=1,**common )\n",
    "        self.down3 = DiffusionBlock(128*scale,256*scale,transformer_blocks=2,**common)\n",
    "        self.down4 = DiffusionBlock(256*scale,512*scale,transformer_blocks=3,**common)\n",
    "        \n",
    "        self.up1 = DiffusionBlock(512*scale,256*scale,**common).transpose()\n",
    "        self.merge_up1_down3 = nn.Conv2d(512*scale,256*scale,kernel_size=1)\n",
    "        \n",
    "        self.up2 = DiffusionBlock(256*scale,128*scale,**common).transpose()\n",
    "        self.merge_up2_down2 = nn.Conv2d(256*scale,128*scale,kernel_size=1)\n",
    "        \n",
    "        self.up3 = DiffusionBlock(128*scale,64*scale,**common).transpose()\n",
    "        self.merge_up3_down1 = nn.Conv2d(128*scale,64*scale,kernel_size=1)\n",
    "\n",
    "        self.up4 = DiffusionBlock(64*scale,64*scale,**common).transpose()\n",
    "        \n",
    "        # to produce proper logits, combine model output that input\n",
    "        self.final = nn.Sequential(\n",
    "            [torch.nn.Conv1d,torch.nn.Conv2d,torch.nn.Conv3d][self.dimensions-1](64*scale,in_channels,kernel_size=1)\n",
    "        )\n",
    "    \n",
    "    # x is batched single example with all noise levels\n",
    "    # timestep is indices of noise levels for each sample is x\n",
    "    # context_embedding is batched tensor with\n",
    "    def forward(self,x, timestep : torch.LongTensor):\n",
    "        \"\"\"\n",
    "        x: [batch,channels,width,height]\n",
    "        \n",
    "        timestep: [batch] tensor of type long\n",
    "        \"\"\"\n",
    "        # if torch.isnan(x).any():\n",
    "        #     print(\"x is nan\")\n",
    "        d1 = self.down1(x,timestep)\n",
    "        \n",
    "        # if torch.isnan(d1).any():\n",
    "        #     print(\"d1 is nan\")\n",
    "            \n",
    "        d2 = self.down2(d1,timestep)\n",
    "        # if torch.isnan(d2).any():\n",
    "        #     print(\"d2 is nan\")\n",
    "        d3 = self.down3(d2,timestep)\n",
    "        d4 = self.down4(d3,timestep)\n",
    "        \n",
    "        u1 = self.up1(d4,timestep)\n",
    "        u1 = self.merge_up1_down3(torch.concat([u1,d3],1))\n",
    "        \n",
    "        u2 = self.up2(u1,timestep)\n",
    "        u2 = self.merge_up2_down2(torch.concat([u2,d2],1))\n",
    "        \n",
    "        u3 = self.up3(u2,timestep)\n",
    "        u3 = self.merge_up3_down1(torch.concat([u3,d1],1))\n",
    "        \n",
    "        u4 = self.up4(u3,timestep)\n",
    "        \n",
    "        return self.final(u4)\n",
    "    \n",
    "in_channels = 3\n",
    "# show example how to use it\n",
    "s = torch.randn((2,in_channels,256,256)) # input noised images\n",
    "timestep = torch.LongTensor([3,2]) #timestep indices\n",
    "diff = Diffusion(in_channels,max_timesteps=512)\n",
    "denoised = sample(diff,(1,in_channels,32,32),128)\n",
    "pred_noise = diff(s,timestep)"
   ]
  },
  {
   "cell_type": "code",
   "execution_count": 4,
   "metadata": {},
   "outputs": [
    {
     "data": {
      "text/plain": [
       "(tensor([0.4903, 0.4548, 0.4161]), tensor([0.2179, 0.2127, 0.2126]))"
      ]
     },
     "execution_count": 4,
     "metadata": {},
     "output_type": "execute_result"
    }
   ],
   "source": [
    "# compute dataset images mean and std, so we can better rescale inputs to diffusion model\n",
    "means = []\n",
    "stds = []\n",
    "for b in train_loader:\n",
    "    im = b[0]\n",
    "    dims = [-1,-2]\n",
    "    mean = im.mean(dims,keepdim=True).mean(0)\n",
    "    std = im.std(dims,keepdim=True).mean(0)\n",
    "    means.append(mean)\n",
    "    stds.append(std)\n",
    "\n",
    "images_mean,images_std = torch.stack(means).mean(0),torch.stack(stds).mean(0)\n",
    "images_mean.flatten(),images_std.flatten()"
   ]
  },
  {
   "cell_type": "code",
   "execution_count": 5,
   "metadata": {},
   "outputs": [
    {
     "name": "stdout",
     "output_type": "stream",
     "text": [
      "Total model parameters 53.02 M\n",
      "loaded training state from runs/diffusion-cat-dog-moreattn/last/state\n",
      "trying to capture model architecture...\n",
      "Saved model architecture at runs/diffusion-cat-dog-moreattn/model.pt. You can torch.load it and update it's weights with checkpoint\n",
      "\n",
      "Epoch 7/200\n"
     ]
    },
    {
     "name": "stderr",
     "output_type": "stream",
     "text": [
      "train 0: 100%|██████████| 596/596 [00:41<00:00, 14.40it/s, loss=0.0842, r2=0.9159]\n"
     ]
    },
    {
     "name": "stdout",
     "output_type": "stream",
     "text": [
      "+------+---------+---------+\n",
      "|      |  Train  |  Test   |\n",
      "+------+---------+---------+\n",
      "| loss | 0.10311 | 0.10575 |\n",
      "|  r2  | 0.8969  | 0.8942  |\n",
      "+------+---------+---------+\n",
      "\n",
      "Epoch 8/200\n"
     ]
    },
    {
     "name": "stderr",
     "output_type": "stream",
     "text": [
      "train 0: 100%|██████████| 596/596 [00:40<00:00, 14.60it/s, loss=0.0611, r2=0.9390]\n"
     ]
    },
    {
     "name": "stdout",
     "output_type": "stream",
     "text": [
      "+------+---------+---------+\n",
      "|      |  Train  |  Test   |\n",
      "+------+---------+---------+\n",
      "| loss | 0.10221 | 0.09835 |\n",
      "|  r2  | 0.8978  | 0.9016  |\n",
      "+------+---------+---------+\n",
      "\n",
      "Epoch 9/200\n"
     ]
    },
    {
     "name": "stderr",
     "output_type": "stream",
     "text": [
      "train 0: 100%|██████████| 596/596 [00:40<00:00, 14.57it/s, loss=0.0677, r2=0.9321]\n"
     ]
    },
    {
     "name": "stdout",
     "output_type": "stream",
     "text": [
      "+------+---------+---------+\n",
      "|      |  Train  |  Test   |\n",
      "+------+---------+---------+\n",
      "| loss | 0.10107 | 0.10317 |\n",
      "|  r2  | 0.8989  | 0.8969  |\n",
      "+------+---------+---------+\n",
      "\n",
      "Epoch 10/200\n"
     ]
    },
    {
     "name": "stderr",
     "output_type": "stream",
     "text": [
      "train 0: 100%|██████████| 596/596 [00:40<00:00, 14.55it/s, loss=0.0714, r2=0.9283]\n"
     ]
    },
    {
     "name": "stdout",
     "output_type": "stream",
     "text": [
      "+------+---------+---------+\n",
      "|      |  Train  |  Test   |\n",
      "+------+---------+---------+\n",
      "| loss | 0.10145 | 0.09183 |\n",
      "|  r2  | 0.8985  | 0.9082  |\n",
      "+------+---------+---------+\n",
      "\n",
      "Epoch 11/200\n"
     ]
    },
    {
     "name": "stderr",
     "output_type": "stream",
     "text": [
      "train 0: 100%|██████████| 596/596 [00:40<00:00, 14.60it/s, loss=0.1058, r2=0.8943]\n"
     ]
    },
    {
     "name": "stdout",
     "output_type": "stream",
     "text": [
      "+------+---------+---------+\n",
      "|      |  Train  |  Test   |\n",
      "+------+---------+---------+\n",
      "| loss | 0.09762 | 0.10425 |\n",
      "|  r2  | 0.9024  | 0.8957  |\n",
      "+------+---------+---------+\n",
      "\n",
      "Epoch 12/200\n"
     ]
    },
    {
     "name": "stderr",
     "output_type": "stream",
     "text": [
      "train 0: 100%|██████████| 596/596 [00:41<00:00, 14.51it/s, loss=0.1758, r2=0.8244]\n"
     ]
    },
    {
     "name": "stdout",
     "output_type": "stream",
     "text": [
      "+------+---------+---------+\n",
      "|      |  Train  |  Test   |\n",
      "+------+---------+---------+\n",
      "| loss | 0.10007 | 0.10153 |\n",
      "|  r2  | 0.8999  | 0.8985  |\n",
      "+------+---------+---------+\n",
      "\n",
      "Epoch 13/200\n"
     ]
    },
    {
     "name": "stderr",
     "output_type": "stream",
     "text": [
      "train 0: 100%|██████████| 596/596 [00:40<00:00, 14.55it/s, loss=0.1105, r2=0.8893]\n"
     ]
    },
    {
     "name": "stdout",
     "output_type": "stream",
     "text": [
      "+------+---------+---------+\n",
      "|      |  Train  |  Test   |\n",
      "+------+---------+---------+\n",
      "| loss | 0.09844 | 0.10165 |\n",
      "|  r2  | 0.9016  | 0.8984  |\n",
      "+------+---------+---------+\n",
      "\n",
      "Epoch 14/200\n"
     ]
    },
    {
     "name": "stderr",
     "output_type": "stream",
     "text": [
      "train 0: 100%|██████████| 596/596 [00:41<00:00, 14.52it/s, loss=0.1049, r2=0.8954]\n"
     ]
    },
    {
     "name": "stdout",
     "output_type": "stream",
     "text": [
      "+------+---------+---------+\n",
      "|      |  Train  |  Test   |\n",
      "+------+---------+---------+\n",
      "| loss | 0.09867 | 0.09511 |\n",
      "|  r2  | 0.9013  | 0.9049  |\n",
      "+------+---------+---------+\n",
      "\n",
      "Epoch 15/200\n"
     ]
    },
    {
     "name": "stderr",
     "output_type": "stream",
     "text": [
      "train 0: 100%|██████████| 596/596 [00:40<00:00, 14.55it/s, loss=0.0661, r2=0.9337]\n"
     ]
    },
    {
     "name": "stdout",
     "output_type": "stream",
     "text": [
      "+------+---------+---------+\n",
      "|      |  Train  |  Test   |\n",
      "+------+---------+---------+\n",
      "| loss | 0.09613 | 0.10853 |\n",
      "|  r2  | 0.9039  | 0.8915  |\n",
      "+------+---------+---------+\n",
      "\n",
      "Epoch 16/200\n"
     ]
    },
    {
     "name": "stderr",
     "output_type": "stream",
     "text": [
      "train 0: 100%|██████████| 596/596 [00:41<00:00, 14.51it/s, loss=0.1101, r2=0.8893]\n"
     ]
    },
    {
     "name": "stdout",
     "output_type": "stream",
     "text": [
      "+------+---------+---------+\n",
      "|      |  Train  |  Test   |\n",
      "+------+---------+---------+\n",
      "| loss | 0.09588 | 0.08695 |\n",
      "|  r2  | 0.9041  | 0.9131  |\n",
      "+------+---------+---------+\n",
      "saved epoch-16\n",
      "\n",
      "Epoch 17/200\n"
     ]
    },
    {
     "name": "stderr",
     "output_type": "stream",
     "text": [
      "train 0: 100%|██████████| 596/596 [00:40<00:00, 14.56it/s, loss=0.1060, r2=0.8939]\n"
     ]
    },
    {
     "name": "stdout",
     "output_type": "stream",
     "text": [
      "+------+--------+---------+\n",
      "|      | Train  |  Test   |\n",
      "+------+--------+---------+\n",
      "| loss | 0.097  | 0.08936 |\n",
      "|  r2  | 0.9030 | 0.9106  |\n",
      "+------+--------+---------+\n",
      "\n",
      "Epoch 18/200\n"
     ]
    },
    {
     "name": "stderr",
     "output_type": "stream",
     "text": [
      "train 0: 100%|██████████| 596/596 [00:40<00:00, 14.57it/s, loss=0.0566, r2=0.9432]\n"
     ]
    },
    {
     "name": "stdout",
     "output_type": "stream",
     "text": [
      "+------+---------+---------+\n",
      "|      |  Train  |  Test   |\n",
      "+------+---------+---------+\n",
      "| loss | 0.09588 | 0.09578 |\n",
      "|  r2  | 0.9041  | 0.9041  |\n",
      "+------+---------+---------+\n",
      "\n",
      "Epoch 19/200\n"
     ]
    },
    {
     "name": "stderr",
     "output_type": "stream",
     "text": [
      "train 0: 100%|██████████| 596/596 [00:41<00:00, 14.52it/s, loss=0.0525, r2=0.9480]\n"
     ]
    },
    {
     "name": "stdout",
     "output_type": "stream",
     "text": [
      "+------+---------+---------+\n",
      "|      |  Train  |  Test   |\n",
      "+------+---------+---------+\n",
      "| loss | 0.09623 | 0.09932 |\n",
      "|  r2  | 0.9038  | 0.9007  |\n",
      "+------+---------+---------+\n",
      "\n",
      "Epoch 20/200\n"
     ]
    },
    {
     "name": "stderr",
     "output_type": "stream",
     "text": [
      "train 0: 100%|██████████| 596/596 [00:41<00:00, 14.53it/s, loss=0.0817, r2=0.9182]\n"
     ]
    },
    {
     "name": "stdout",
     "output_type": "stream",
     "text": [
      "+------+---------+---------+\n",
      "|      |  Train  |  Test   |\n",
      "+------+---------+---------+\n",
      "| loss | 0.09605 | 0.09791 |\n",
      "|  r2  | 0.9040  | 0.9021  |\n",
      "+------+---------+---------+\n",
      "\n",
      "Epoch 21/200\n"
     ]
    },
    {
     "name": "stderr",
     "output_type": "stream",
     "text": [
      "train 0: 100%|██████████| 596/596 [00:41<00:00, 14.52it/s, loss=0.1211, r2=0.8790]\n"
     ]
    },
    {
     "name": "stdout",
     "output_type": "stream",
     "text": [
      "+------+---------+---------+\n",
      "|      |  Train  |  Test   |\n",
      "+------+---------+---------+\n",
      "| loss | 0.09626 | 0.09215 |\n",
      "|  r2  | 0.9037  | 0.9078  |\n",
      "+------+---------+---------+\n",
      "\n",
      "Epoch 22/200\n"
     ]
    },
    {
     "name": "stderr",
     "output_type": "stream",
     "text": [
      "train 0: 100%|██████████| 596/596 [00:40<00:00, 14.55it/s, loss=0.0822, r2=0.9179]\n"
     ]
    },
    {
     "name": "stdout",
     "output_type": "stream",
     "text": [
      "+------+---------+---------+\n",
      "|      |  Train  |  Test   |\n",
      "+------+---------+---------+\n",
      "| loss | 0.09619 | 0.09339 |\n",
      "|  r2  | 0.9038  | 0.9066  |\n",
      "+------+---------+---------+\n",
      "\n",
      "Epoch 23/200\n"
     ]
    },
    {
     "name": "stderr",
     "output_type": "stream",
     "text": [
      "train 0: 100%|██████████| 596/596 [00:40<00:00, 14.56it/s, loss=0.0710, r2=0.9291]\n"
     ]
    },
    {
     "name": "stdout",
     "output_type": "stream",
     "text": [
      "+------+---------+---------+\n",
      "|      |  Train  |  Test   |\n",
      "+------+---------+---------+\n",
      "| loss | 0.09592 | 0.09152 |\n",
      "|  r2  | 0.9041  | 0.9085  |\n",
      "+------+---------+---------+\n",
      "\n",
      "Epoch 24/200\n"
     ]
    },
    {
     "name": "stderr",
     "output_type": "stream",
     "text": [
      "train 0: 100%|██████████| 596/596 [00:40<00:00, 14.59it/s, loss=0.1703, r2=0.8299]\n"
     ]
    },
    {
     "name": "stdout",
     "output_type": "stream",
     "text": [
      "+------+---------+---------+\n",
      "|      |  Train  |  Test   |\n",
      "+------+---------+---------+\n",
      "| loss | 0.09475 | 0.08649 |\n",
      "|  r2  | 0.9053  | 0.9135  |\n",
      "+------+---------+---------+\n",
      "saved epoch-24\n",
      "\n",
      "Epoch 25/200\n"
     ]
    },
    {
     "name": "stderr",
     "output_type": "stream",
     "text": [
      "train 0: 100%|██████████| 596/596 [00:41<00:00, 14.53it/s, loss=0.0791, r2=0.9208]\n"
     ]
    },
    {
     "name": "stdout",
     "output_type": "stream",
     "text": [
      "+------+---------+---------+\n",
      "|      |  Train  |  Test   |\n",
      "+------+---------+---------+\n",
      "| loss | 0.09226 | 0.08887 |\n",
      "|  r2  | 0.9077  | 0.9111  |\n",
      "+------+---------+---------+\n",
      "\n",
      "Epoch 26/200\n"
     ]
    },
    {
     "name": "stderr",
     "output_type": "stream",
     "text": [
      "train 0: 100%|██████████| 596/596 [00:40<00:00, 14.56it/s, loss=0.0509, r2=0.9494]\n"
     ]
    },
    {
     "name": "stdout",
     "output_type": "stream",
     "text": [
      "+------+---------+---------+\n",
      "|      |  Train  |  Test   |\n",
      "+------+---------+---------+\n",
      "| loss | 0.09519 | 0.09259 |\n",
      "|  r2  | 0.9048  | 0.9074  |\n",
      "+------+---------+---------+\n",
      "\n",
      "Epoch 27/200\n"
     ]
    },
    {
     "name": "stderr",
     "output_type": "stream",
     "text": [
      "train 0: 100%|██████████| 596/596 [00:40<00:00, 14.59it/s, loss=0.0898, r2=0.9104]\n"
     ]
    },
    {
     "name": "stdout",
     "output_type": "stream",
     "text": [
      "+------+---------+---------+\n",
      "|      |  Train  |  Test   |\n",
      "+------+---------+---------+\n",
      "| loss | 0.09383 | 0.08951 |\n",
      "|  r2  | 0.9062  | 0.9105  |\n",
      "+------+---------+---------+\n",
      "\n",
      "Epoch 28/200\n"
     ]
    },
    {
     "name": "stderr",
     "output_type": "stream",
     "text": [
      "train 0: 100%|██████████| 596/596 [00:41<00:00, 14.54it/s, loss=0.1215, r2=0.8785]\n"
     ]
    },
    {
     "name": "stdout",
     "output_type": "stream",
     "text": [
      "+------+---------+--------+\n",
      "|      |  Train  |  Test  |\n",
      "+------+---------+--------+\n",
      "| loss | 0.09525 | 0.0951 |\n",
      "|  r2  | 0.9047  | 0.9049 |\n",
      "+------+---------+--------+\n",
      "\n",
      "Epoch 29/200\n"
     ]
    },
    {
     "name": "stderr",
     "output_type": "stream",
     "text": [
      "train 0: 100%|██████████| 596/596 [00:40<00:00, 14.60it/s, loss=0.1016, r2=0.8978]\n"
     ]
    },
    {
     "name": "stdout",
     "output_type": "stream",
     "text": [
      "+------+--------+---------+\n",
      "|      | Train  |  Test   |\n",
      "+------+--------+---------+\n",
      "| loss | 0.0938 | 0.09154 |\n",
      "|  r2  | 0.9062 | 0.9084  |\n",
      "+------+--------+---------+\n",
      "\n",
      "Epoch 30/200\n"
     ]
    },
    {
     "name": "stderr",
     "output_type": "stream",
     "text": [
      "train 0: 100%|██████████| 596/596 [00:40<00:00, 14.61it/s, loss=0.0858, r2=0.9139]\n"
     ]
    },
    {
     "name": "stdout",
     "output_type": "stream",
     "text": [
      "+------+---------+---------+\n",
      "|      |  Train  |  Test   |\n",
      "+------+---------+---------+\n",
      "| loss | 0.09541 | 0.08913 |\n",
      "|  r2  | 0.9046  | 0.9109  |\n",
      "+------+---------+---------+\n",
      "\n",
      "Epoch 31/200\n"
     ]
    },
    {
     "name": "stderr",
     "output_type": "stream",
     "text": [
      "train 0: 100%|██████████| 596/596 [00:41<00:00, 14.50it/s, loss=0.0757, r2=0.9249]\n"
     ]
    },
    {
     "name": "stdout",
     "output_type": "stream",
     "text": [
      "+------+---------+---------+\n",
      "|      |  Train  |  Test   |\n",
      "+------+---------+---------+\n",
      "| loss | 0.09433 | 0.09098 |\n",
      "|  r2  | 0.9057  | 0.9091  |\n",
      "+------+---------+---------+\n",
      "\n",
      "Epoch 32/200\n"
     ]
    },
    {
     "name": "stderr",
     "output_type": "stream",
     "text": [
      "train 0: 100%|██████████| 596/596 [00:40<00:00, 14.61it/s, loss=0.1381, r2=0.8614]\n"
     ]
    },
    {
     "name": "stdout",
     "output_type": "stream",
     "text": [
      "+------+---------+---------+\n",
      "|      |  Train  |  Test   |\n",
      "+------+---------+---------+\n",
      "| loss | 0.09441 | 0.08705 |\n",
      "|  r2  | 0.9056  | 0.9130  |\n",
      "+------+---------+---------+\n",
      "\n",
      "Epoch 33/200\n"
     ]
    },
    {
     "name": "stderr",
     "output_type": "stream",
     "text": [
      "train 0: 100%|██████████| 596/596 [00:40<00:00, 14.54it/s, loss=0.1078, r2=0.8924]\n"
     ]
    },
    {
     "name": "stdout",
     "output_type": "stream",
     "text": [
      "+------+---------+---------+\n",
      "|      |  Train  |  Test   |\n",
      "+------+---------+---------+\n",
      "| loss | 0.09392 | 0.08985 |\n",
      "|  r2  | 0.9061  | 0.9101  |\n",
      "+------+---------+---------+\n",
      "\n",
      "Epoch 34/200\n"
     ]
    },
    {
     "name": "stderr",
     "output_type": "stream",
     "text": [
      "train 0: 100%|██████████| 596/596 [00:41<00:00, 14.51it/s, loss=0.0569, r2=0.9428]\n"
     ]
    },
    {
     "name": "stdout",
     "output_type": "stream",
     "text": [
      "+------+---------+--------+\n",
      "|      |  Train  |  Test  |\n",
      "+------+---------+--------+\n",
      "| loss | 0.09549 | 0.0976 |\n",
      "|  r2  | 0.9045  | 0.9024 |\n",
      "+------+---------+--------+\n",
      "\n",
      "Epoch 35/200\n"
     ]
    },
    {
     "name": "stderr",
     "output_type": "stream",
     "text": [
      "train 0: 100%|██████████| 596/596 [00:40<00:00, 14.57it/s, loss=0.1270, r2=0.8727]\n"
     ]
    },
    {
     "name": "stdout",
     "output_type": "stream",
     "text": [
      "+------+---------+---------+\n",
      "|      |  Train  |  Test   |\n",
      "+------+---------+---------+\n",
      "| loss | 0.09215 | 0.09143 |\n",
      "|  r2  | 0.9079  | 0.9085  |\n",
      "+------+---------+---------+\n",
      "\n",
      "Epoch 36/200\n"
     ]
    },
    {
     "name": "stderr",
     "output_type": "stream",
     "text": [
      "train 0: 100%|██████████| 596/596 [00:41<00:00, 14.49it/s, loss=0.0633, r2=0.9369]\n"
     ]
    },
    {
     "name": "stdout",
     "output_type": "stream",
     "text": [
      "+------+---------+---------+\n",
      "|      |  Train  |  Test   |\n",
      "+------+---------+---------+\n",
      "| loss | 0.09094 | 0.09133 |\n",
      "|  r2  | 0.9091  | 0.9087  |\n",
      "+------+---------+---------+\n",
      "\n",
      "Epoch 37/200\n"
     ]
    },
    {
     "name": "stderr",
     "output_type": "stream",
     "text": [
      "train 0: 100%|██████████| 596/596 [00:40<00:00, 14.57it/s, loss=0.1266, r2=0.8730]\n"
     ]
    },
    {
     "name": "stdout",
     "output_type": "stream",
     "text": [
      "+------+---------+---------+\n",
      "|      |  Train  |  Test   |\n",
      "+------+---------+---------+\n",
      "| loss | 0.09239 | 0.09018 |\n",
      "|  r2  | 0.9076  | 0.9098  |\n",
      "+------+---------+---------+\n",
      "\n",
      "Epoch 38/200\n"
     ]
    },
    {
     "name": "stderr",
     "output_type": "stream",
     "text": [
      "train 0: 100%|██████████| 596/596 [00:41<00:00, 14.52it/s, loss=0.0774, r2=0.9225]\n"
     ]
    },
    {
     "name": "stdout",
     "output_type": "stream",
     "text": [
      "+------+---------+---------+\n",
      "|      |  Train  |  Test   |\n",
      "+------+---------+---------+\n",
      "| loss | 0.09307 | 0.08497 |\n",
      "|  r2  | 0.9069  | 0.9150  |\n",
      "+------+---------+---------+\n",
      "saved epoch-38\n",
      "\n",
      "Epoch 39/200\n"
     ]
    },
    {
     "name": "stderr",
     "output_type": "stream",
     "text": [
      "train 0: 100%|██████████| 596/596 [00:41<00:00, 14.47it/s, loss=0.0935, r2=0.9063]\n"
     ]
    },
    {
     "name": "stdout",
     "output_type": "stream",
     "text": [
      "+------+---------+---------+\n",
      "|      |  Train  |  Test   |\n",
      "+------+---------+---------+\n",
      "| loss | 0.09329 | 0.08486 |\n",
      "|  r2  | 0.9067  | 0.9151  |\n",
      "+------+---------+---------+\n",
      "saved epoch-39\n",
      "\n",
      "Epoch 40/200\n"
     ]
    },
    {
     "name": "stderr",
     "output_type": "stream",
     "text": [
      "train 0: 100%|██████████| 596/596 [00:41<00:00, 14.53it/s, loss=0.0654, r2=0.9348]\n"
     ]
    },
    {
     "name": "stdout",
     "output_type": "stream",
     "text": [
      "+------+---------+---------+\n",
      "|      |  Train  |  Test   |\n",
      "+------+---------+---------+\n",
      "| loss | 0.09156 | 0.08865 |\n",
      "|  r2  | 0.9084  | 0.9114  |\n",
      "+------+---------+---------+\n",
      "\n",
      "Epoch 41/200\n"
     ]
    },
    {
     "name": "stderr",
     "output_type": "stream",
     "text": [
      "train 0: 100%|██████████| 596/596 [00:41<00:00, 14.54it/s, loss=0.0984, r2=0.9011]\n"
     ]
    },
    {
     "name": "stdout",
     "output_type": "stream",
     "text": [
      "+------+---------+---------+\n",
      "|      |  Train  |  Test   |\n",
      "+------+---------+---------+\n",
      "| loss | 0.09126 | 0.09023 |\n",
      "|  r2  | 0.9087  | 0.9098  |\n",
      "+------+---------+---------+\n",
      "\n",
      "Epoch 42/200\n"
     ]
    },
    {
     "name": "stderr",
     "output_type": "stream",
     "text": [
      "train 0: 100%|██████████| 596/596 [00:41<00:00, 14.46it/s, loss=0.0528, r2=0.9468]\n"
     ]
    },
    {
     "name": "stdout",
     "output_type": "stream",
     "text": [
      "+------+--------+--------+\n",
      "|      | Train  |  Test  |\n",
      "+------+--------+--------+\n",
      "| loss | 0.0922 | 0.0942 |\n",
      "|  r2  | 0.9078 | 0.9058 |\n",
      "+------+--------+--------+\n",
      "\n",
      "Epoch 43/200\n"
     ]
    },
    {
     "name": "stderr",
     "output_type": "stream",
     "text": [
      "train 0: 100%|██████████| 596/596 [00:40<00:00, 14.56it/s, loss=0.0530, r2=0.9470]\n"
     ]
    },
    {
     "name": "stdout",
     "output_type": "stream",
     "text": [
      "+------+---------+---------+\n",
      "|      |  Train  |  Test   |\n",
      "+------+---------+---------+\n",
      "| loss | 0.09352 | 0.09542 |\n",
      "|  r2  | 0.9065  | 0.9046  |\n",
      "+------+---------+---------+\n",
      "\n",
      "Epoch 44/200\n"
     ]
    },
    {
     "name": "stderr",
     "output_type": "stream",
     "text": [
      "train 0: 100%|██████████| 596/596 [00:40<00:00, 14.55it/s, loss=0.0297, r2=0.9704]\n"
     ]
    },
    {
     "name": "stdout",
     "output_type": "stream",
     "text": [
      "+------+---------+---------+\n",
      "|      |  Train  |  Test   |\n",
      "+------+---------+---------+\n",
      "| loss | 0.09076 | 0.09214 |\n",
      "|  r2  | 0.9092  | 0.9079  |\n",
      "+------+---------+---------+\n",
      "\n",
      "Epoch 45/200\n"
     ]
    },
    {
     "name": "stderr",
     "output_type": "stream",
     "text": [
      "train 0: 100%|██████████| 596/596 [00:41<00:00, 14.53it/s, loss=0.0652, r2=0.9350]\n"
     ]
    },
    {
     "name": "stdout",
     "output_type": "stream",
     "text": [
      "+------+--------+---------+\n",
      "|      | Train  |  Test   |\n",
      "+------+--------+---------+\n",
      "| loss | 0.093  | 0.09044 |\n",
      "|  r2  | 0.9070 | 0.9095  |\n",
      "+------+--------+---------+\n",
      "\n",
      "Epoch 46/200\n"
     ]
    },
    {
     "name": "stderr",
     "output_type": "stream",
     "text": [
      "train 0: 100%|██████████| 596/596 [00:40<00:00, 14.55it/s, loss=0.1559, r2=0.8441]\n"
     ]
    },
    {
     "name": "stdout",
     "output_type": "stream",
     "text": [
      "+------+---------+--------+\n",
      "|      |  Train  |  Test  |\n",
      "+------+---------+--------+\n",
      "| loss | 0.09153 | 0.0896 |\n",
      "|  r2  | 0.9085  | 0.9104 |\n",
      "+------+---------+--------+\n",
      "\n",
      "Epoch 47/200\n"
     ]
    },
    {
     "name": "stderr",
     "output_type": "stream",
     "text": [
      "train 0: 100%|██████████| 596/596 [00:40<00:00, 14.56it/s, loss=0.1039, r2=0.8961]\n"
     ]
    },
    {
     "name": "stdout",
     "output_type": "stream",
     "text": [
      "+------+---------+--------+\n",
      "|      |  Train  |  Test  |\n",
      "+------+---------+--------+\n",
      "| loss | 0.09153 | 0.0886 |\n",
      "|  r2  | 0.9085  | 0.9114 |\n",
      "+------+---------+--------+\n",
      "\n",
      "Epoch 48/200\n"
     ]
    },
    {
     "name": "stderr",
     "output_type": "stream",
     "text": [
      "train 0: 100%|██████████| 596/596 [00:40<00:00, 14.56it/s, loss=0.0769, r2=0.9234]\n"
     ]
    },
    {
     "name": "stdout",
     "output_type": "stream",
     "text": [
      "+------+---------+---------+\n",
      "|      |  Train  |  Test   |\n",
      "+------+---------+---------+\n",
      "| loss | 0.09208 | 0.09162 |\n",
      "|  r2  | 0.9079  | 0.9084  |\n",
      "+------+---------+---------+\n",
      "\n",
      "Epoch 49/200\n"
     ]
    },
    {
     "name": "stderr",
     "output_type": "stream",
     "text": [
      "train 0: 100%|██████████| 596/596 [00:41<00:00, 14.51it/s, loss=0.0451, r2=0.9551]\n"
     ]
    },
    {
     "name": "stdout",
     "output_type": "stream",
     "text": [
      "+------+---------+---------+\n",
      "|      |  Train  |  Test   |\n",
      "+------+---------+---------+\n",
      "| loss | 0.09162 | 0.08301 |\n",
      "|  r2  | 0.9084  | 0.9170  |\n",
      "+------+---------+---------+\n",
      "saved epoch-49\n",
      "\n",
      "Epoch 50/200\n"
     ]
    },
    {
     "name": "stderr",
     "output_type": "stream",
     "text": [
      "train 0: 100%|██████████| 596/596 [00:40<00:00, 14.58it/s, loss=0.0914, r2=0.9091]\n"
     ]
    },
    {
     "name": "stdout",
     "output_type": "stream",
     "text": [
      "+------+---------+---------+\n",
      "|      |  Train  |  Test   |\n",
      "+------+---------+---------+\n",
      "| loss | 0.09132 | 0.09203 |\n",
      "|  r2  | 0.9087  | 0.9079  |\n",
      "+------+---------+---------+\n",
      "\n",
      "Epoch 51/200\n"
     ]
    },
    {
     "name": "stderr",
     "output_type": "stream",
     "text": [
      "train 0: 100%|██████████| 596/596 [00:40<00:00, 14.56it/s, loss=0.0831, r2=0.9167]\n"
     ]
    },
    {
     "name": "stdout",
     "output_type": "stream",
     "text": [
      "+------+---------+---------+\n",
      "|      |  Train  |  Test   |\n",
      "+------+---------+---------+\n",
      "| loss | 0.09168 | 0.09035 |\n",
      "|  r2  | 0.9083  | 0.9096  |\n",
      "+------+---------+---------+\n",
      "\n",
      "Epoch 52/200\n"
     ]
    },
    {
     "name": "stderr",
     "output_type": "stream",
     "text": [
      "train 0: 100%|██████████| 596/596 [00:41<00:00, 14.51it/s, loss=0.0931, r2=0.9072]\n"
     ]
    },
    {
     "name": "stdout",
     "output_type": "stream",
     "text": [
      "+------+---------+---------+\n",
      "|      |  Train  |  Test   |\n",
      "+------+---------+---------+\n",
      "| loss | 0.09247 | 0.09145 |\n",
      "|  r2  | 0.9075  | 0.9086  |\n",
      "+------+---------+---------+\n",
      "\n",
      "Epoch 53/200\n"
     ]
    },
    {
     "name": "stderr",
     "output_type": "stream",
     "text": [
      "train 0: 100%|██████████| 596/596 [00:40<00:00, 14.57it/s, loss=0.1108, r2=0.8896]\n"
     ]
    },
    {
     "name": "stdout",
     "output_type": "stream",
     "text": [
      "+------+---------+---------+\n",
      "|      |  Train  |  Test   |\n",
      "+------+---------+---------+\n",
      "| loss | 0.09301 | 0.08647 |\n",
      "|  r2  | 0.9070  | 0.9135  |\n",
      "+------+---------+---------+\n",
      "\n",
      "Epoch 54/200\n"
     ]
    },
    {
     "name": "stderr",
     "output_type": "stream",
     "text": [
      "train 0: 100%|██████████| 596/596 [00:40<00:00, 14.60it/s, loss=0.0376, r2=0.9625]\n"
     ]
    },
    {
     "name": "stdout",
     "output_type": "stream",
     "text": [
      "+------+---------+---------+\n",
      "|      |  Train  |  Test   |\n",
      "+------+---------+---------+\n",
      "| loss | 0.09105 | 0.09809 |\n",
      "|  r2  | 0.9090  | 0.9019  |\n",
      "+------+---------+---------+\n",
      "\n",
      "Epoch 55/200\n"
     ]
    },
    {
     "name": "stderr",
     "output_type": "stream",
     "text": [
      "train 0: 100%|██████████| 596/596 [00:40<00:00, 14.55it/s, loss=0.0578, r2=0.9418]\n"
     ]
    },
    {
     "name": "stdout",
     "output_type": "stream",
     "text": [
      "+------+---------+---------+\n",
      "|      |  Train  |  Test   |\n",
      "+------+---------+---------+\n",
      "| loss | 0.09192 | 0.08788 |\n",
      "|  r2  | 0.9081  | 0.9122  |\n",
      "+------+---------+---------+\n",
      "\n",
      "Epoch 56/200\n"
     ]
    },
    {
     "name": "stderr",
     "output_type": "stream",
     "text": [
      "train 0: 100%|██████████| 596/596 [00:41<00:00, 14.50it/s, loss=0.1387, r2=0.8615]\n"
     ]
    },
    {
     "name": "stdout",
     "output_type": "stream",
     "text": [
      "+------+---------+---------+\n",
      "|      |  Train  |  Test   |\n",
      "+------+---------+---------+\n",
      "| loss | 0.09383 | 0.10034 |\n",
      "|  r2  | 0.9062  | 0.8996  |\n",
      "+------+---------+---------+\n",
      "\n",
      "Epoch 57/200\n"
     ]
    },
    {
     "name": "stderr",
     "output_type": "stream",
     "text": [
      "train 0: 100%|██████████| 596/596 [00:40<00:00, 14.54it/s, loss=0.0414, r2=0.9586]\n"
     ]
    },
    {
     "name": "stdout",
     "output_type": "stream",
     "text": [
      "+------+---------+---------+\n",
      "|      |  Train  |  Test   |\n",
      "+------+---------+---------+\n",
      "| loss | 0.08956 | 0.08735 |\n",
      "|  r2  | 0.9105  | 0.9127  |\n",
      "+------+---------+---------+\n",
      "\n",
      "Epoch 58/200\n"
     ]
    },
    {
     "name": "stderr",
     "output_type": "stream",
     "text": [
      "train 0: 100%|██████████| 596/596 [00:41<00:00, 14.52it/s, loss=0.0953, r2=0.9041]\n"
     ]
    },
    {
     "name": "stdout",
     "output_type": "stream",
     "text": [
      "+------+---------+---------+\n",
      "|      |  Train  |  Test   |\n",
      "+------+---------+---------+\n",
      "| loss | 0.09033 | 0.08517 |\n",
      "|  r2  | 0.9097  | 0.9148  |\n",
      "+------+---------+---------+\n",
      "\n",
      "Epoch 59/200\n"
     ]
    },
    {
     "name": "stderr",
     "output_type": "stream",
     "text": [
      "train 0: 100%|██████████| 596/596 [00:40<00:00, 14.56it/s, loss=0.0767, r2=0.9232]\n"
     ]
    },
    {
     "name": "stdout",
     "output_type": "stream",
     "text": [
      "+------+---------+---------+\n",
      "|      |  Train  |  Test   |\n",
      "+------+---------+---------+\n",
      "| loss | 0.09163 | 0.08943 |\n",
      "|  r2  | 0.9084  | 0.9105  |\n",
      "+------+---------+---------+\n",
      "\n",
      "Epoch 60/200\n"
     ]
    },
    {
     "name": "stderr",
     "output_type": "stream",
     "text": [
      "train 0: 100%|██████████| 596/596 [00:40<00:00, 14.55it/s, loss=0.1075, r2=0.8935]\n"
     ]
    },
    {
     "name": "stdout",
     "output_type": "stream",
     "text": [
      "+------+---------+--------+\n",
      "|      |  Train  |  Test  |\n",
      "+------+---------+--------+\n",
      "| loss | 0.09103 | 0.0927 |\n",
      "|  r2  | 0.9090  | 0.9073 |\n",
      "+------+---------+--------+\n",
      "\n",
      "Epoch 61/200\n"
     ]
    },
    {
     "name": "stderr",
     "output_type": "stream",
     "text": [
      "train 0: 100%|██████████| 596/596 [00:41<00:00, 14.26it/s, loss=0.1100, r2=0.8902]\n"
     ]
    },
    {
     "name": "stdout",
     "output_type": "stream",
     "text": [
      "+------+---------+---------+\n",
      "|      |  Train  |  Test   |\n",
      "+------+---------+---------+\n",
      "| loss | 0.08957 | 0.08631 |\n",
      "|  r2  | 0.9104  | 0.9137  |\n",
      "+------+---------+---------+\n",
      "\n",
      "Epoch 62/200\n"
     ]
    },
    {
     "name": "stderr",
     "output_type": "stream",
     "text": [
      "train 0: 100%|██████████| 596/596 [00:41<00:00, 14.49it/s, loss=0.0931, r2=0.9072]\n"
     ]
    },
    {
     "name": "stdout",
     "output_type": "stream",
     "text": [
      "+------+---------+---------+\n",
      "|      |  Train  |  Test   |\n",
      "+------+---------+---------+\n",
      "| loss | 0.09057 | 0.08504 |\n",
      "|  r2  | 0.9094  | 0.9149  |\n",
      "+------+---------+---------+\n",
      "\n",
      "Epoch 63/200\n"
     ]
    },
    {
     "name": "stderr",
     "output_type": "stream",
     "text": [
      "train 0: 100%|██████████| 596/596 [00:40<00:00, 14.54it/s, loss=0.0856, r2=0.9148]\n"
     ]
    },
    {
     "name": "stdout",
     "output_type": "stream",
     "text": [
      "+------+---------+---------+\n",
      "|      |  Train  |  Test   |\n",
      "+------+---------+---------+\n",
      "| loss | 0.09152 | 0.08475 |\n",
      "|  r2  | 0.9085  | 0.9152  |\n",
      "+------+---------+---------+\n",
      "\n",
      "Epoch 64/200\n"
     ]
    },
    {
     "name": "stderr",
     "output_type": "stream",
     "text": [
      "train 0: 100%|██████████| 596/596 [00:40<00:00, 14.57it/s, loss=0.0693, r2=0.9306]\n"
     ]
    },
    {
     "name": "stdout",
     "output_type": "stream",
     "text": [
      "+------+---------+---------+\n",
      "|      |  Train  |  Test   |\n",
      "+------+---------+---------+\n",
      "| loss | 0.09026 | 0.08393 |\n",
      "|  r2  | 0.9097  | 0.9161  |\n",
      "+------+---------+---------+\n",
      "\n",
      "Epoch 65/200\n"
     ]
    },
    {
     "name": "stderr",
     "output_type": "stream",
     "text": [
      "train 0: 100%|██████████| 596/596 [00:40<00:00, 14.56it/s, loss=0.0888, r2=0.9115]\n"
     ]
    },
    {
     "name": "stdout",
     "output_type": "stream",
     "text": [
      "+------+---------+---------+\n",
      "|      |  Train  |  Test   |\n",
      "+------+---------+---------+\n",
      "| loss | 0.08911 | 0.09115 |\n",
      "|  r2  | 0.9109  | 0.9088  |\n",
      "+------+---------+---------+\n",
      "\n",
      "Epoch 66/200\n"
     ]
    },
    {
     "name": "stderr",
     "output_type": "stream",
     "text": [
      "train 0: 100%|██████████| 596/596 [00:41<00:00, 14.53it/s, loss=0.0769, r2=0.9228]\n"
     ]
    },
    {
     "name": "stdout",
     "output_type": "stream",
     "text": [
      "+------+---------+--------+\n",
      "|      |  Train  |  Test  |\n",
      "+------+---------+--------+\n",
      "| loss | 0.09082 | 0.092  |\n",
      "|  r2  | 0.9092  | 0.9081 |\n",
      "+------+---------+--------+\n",
      "\n",
      "Epoch 67/200\n"
     ]
    },
    {
     "name": "stderr",
     "output_type": "stream",
     "text": [
      "train 0: 100%|██████████| 596/596 [00:41<00:00, 14.46it/s, loss=0.1171, r2=0.8828]\n"
     ]
    },
    {
     "name": "stdout",
     "output_type": "stream",
     "text": [
      "+------+---------+---------+\n",
      "|      |  Train  |  Test   |\n",
      "+------+---------+---------+\n",
      "| loss | 0.09075 | 0.09113 |\n",
      "|  r2  | 0.9092  | 0.9088  |\n",
      "+------+---------+---------+\n",
      "\n",
      "Epoch 68/200\n"
     ]
    },
    {
     "name": "stderr",
     "output_type": "stream",
     "text": [
      "train 0: 100%|██████████| 596/596 [00:40<00:00, 14.55it/s, loss=0.0930, r2=0.9070]\n"
     ]
    },
    {
     "name": "stdout",
     "output_type": "stream",
     "text": [
      "+------+---------+---------+\n",
      "|      |  Train  |  Test   |\n",
      "+------+---------+---------+\n",
      "| loss | 0.08905 | 0.09061 |\n",
      "|  r2  | 0.9109  | 0.9093  |\n",
      "+------+---------+---------+\n",
      "\n",
      "Epoch 69/200\n"
     ]
    },
    {
     "name": "stderr",
     "output_type": "stream",
     "text": [
      "train 0: 100%|██████████| 596/596 [00:41<00:00, 14.50it/s, loss=0.0430, r2=0.9569]\n"
     ]
    },
    {
     "name": "stdout",
     "output_type": "stream",
     "text": [
      "+------+---------+---------+\n",
      "|      |  Train  |  Test   |\n",
      "+------+---------+---------+\n",
      "| loss | 0.09258 | 0.08109 |\n",
      "|  r2  | 0.9074  | 0.9190  |\n",
      "+------+---------+---------+\n",
      "saved epoch-69\n",
      "\n",
      "Epoch 70/200\n"
     ]
    },
    {
     "name": "stderr",
     "output_type": "stream",
     "text": [
      "train 0: 100%|██████████| 596/596 [00:41<00:00, 14.50it/s, loss=0.0875, r2=0.9127]\n"
     ]
    },
    {
     "name": "stdout",
     "output_type": "stream",
     "text": [
      "+------+---------+--------+\n",
      "|      |  Train  |  Test  |\n",
      "+------+---------+--------+\n",
      "| loss | 0.08998 | 0.0834 |\n",
      "|  r2  | 0.9100  | 0.9166 |\n",
      "+------+---------+--------+\n",
      "\n",
      "Epoch 71/200\n"
     ]
    },
    {
     "name": "stderr",
     "output_type": "stream",
     "text": [
      "train 0: 100%|██████████| 596/596 [00:41<00:00, 14.46it/s, loss=0.1000, r2=0.8998]\n"
     ]
    },
    {
     "name": "stdout",
     "output_type": "stream",
     "text": [
      "+------+---------+---------+\n",
      "|      |  Train  |  Test   |\n",
      "+------+---------+---------+\n",
      "| loss | 0.08916 | 0.08853 |\n",
      "|  r2  | 0.9108  | 0.9114  |\n",
      "+------+---------+---------+\n",
      "\n",
      "Epoch 72/200\n"
     ]
    },
    {
     "name": "stderr",
     "output_type": "stream",
     "text": [
      "train 0: 100%|██████████| 596/596 [00:41<00:00, 14.49it/s, loss=0.0817, r2=0.9185]\n"
     ]
    },
    {
     "name": "stdout",
     "output_type": "stream",
     "text": [
      "+------+---------+---------+\n",
      "|      |  Train  |  Test   |\n",
      "+------+---------+---------+\n",
      "| loss | 0.09025 | 0.09558 |\n",
      "|  r2  | 0.9097  | 0.9044  |\n",
      "+------+---------+---------+\n",
      "\n",
      "Epoch 73/200\n"
     ]
    },
    {
     "name": "stderr",
     "output_type": "stream",
     "text": [
      "train 0: 100%|██████████| 596/596 [00:41<00:00, 14.49it/s, loss=0.1067, r2=0.8936]\n"
     ]
    },
    {
     "name": "stdout",
     "output_type": "stream",
     "text": [
      "+------+---------+---------+\n",
      "|      |  Train  |  Test   |\n",
      "+------+---------+---------+\n",
      "| loss | 0.09017 | 0.08594 |\n",
      "|  r2  | 0.9098  | 0.9141  |\n",
      "+------+---------+---------+\n",
      "\n",
      "Epoch 74/200\n"
     ]
    },
    {
     "name": "stderr",
     "output_type": "stream",
     "text": [
      "train 0: 100%|██████████| 596/596 [00:40<00:00, 14.55it/s, loss=0.1387, r2=0.8607]\n"
     ]
    },
    {
     "name": "stdout",
     "output_type": "stream",
     "text": [
      "+------+---------+---------+\n",
      "|      |  Train  |  Test   |\n",
      "+------+---------+---------+\n",
      "| loss | 0.09132 | 0.09559 |\n",
      "|  r2  | 0.9087  | 0.9044  |\n",
      "+------+---------+---------+\n",
      "\n",
      "Epoch 75/200\n"
     ]
    },
    {
     "name": "stderr",
     "output_type": "stream",
     "text": [
      "train 0: 100%|██████████| 596/596 [00:40<00:00, 14.56it/s, loss=0.1297, r2=0.8713]\n"
     ]
    },
    {
     "name": "stdout",
     "output_type": "stream",
     "text": [
      "+------+---------+---------+\n",
      "|      |  Train  |  Test   |\n",
      "+------+---------+---------+\n",
      "| loss | 0.09189 | 0.08397 |\n",
      "|  r2  | 0.9081  | 0.9161  |\n",
      "+------+---------+---------+\n",
      "\n",
      "Epoch 76/200\n"
     ]
    },
    {
     "name": "stderr",
     "output_type": "stream",
     "text": [
      "train 0: 100%|██████████| 596/596 [00:41<00:00, 14.44it/s, loss=0.0705, r2=0.9296]\n"
     ]
    },
    {
     "name": "stdout",
     "output_type": "stream",
     "text": [
      "+------+---------+---------+\n",
      "|      |  Train  |  Test   |\n",
      "+------+---------+---------+\n",
      "| loss | 0.09185 | 0.09395 |\n",
      "|  r2  | 0.9082  | 0.9061  |\n",
      "+------+---------+---------+\n",
      "\n",
      "Epoch 77/200\n"
     ]
    },
    {
     "name": "stderr",
     "output_type": "stream",
     "text": [
      "train 0: 100%|██████████| 596/596 [00:40<00:00, 14.56it/s, loss=0.1073, r2=0.8922]\n"
     ]
    },
    {
     "name": "stdout",
     "output_type": "stream",
     "text": [
      "+------+---------+---------+\n",
      "|      |  Train  |  Test   |\n",
      "+------+---------+---------+\n",
      "| loss | 0.08975 | 0.09006 |\n",
      "|  r2  | 0.9102  | 0.9100  |\n",
      "+------+---------+---------+\n",
      "\n",
      "Epoch 78/200\n"
     ]
    },
    {
     "name": "stderr",
     "output_type": "stream",
     "text": [
      "train 0: 100%|██████████| 596/596 [00:40<00:00, 14.55it/s, loss=0.0351, r2=0.9648]\n"
     ]
    },
    {
     "name": "stdout",
     "output_type": "stream",
     "text": [
      "+------+---------+---------+\n",
      "|      |  Train  |  Test   |\n",
      "+------+---------+---------+\n",
      "| loss | 0.08959 | 0.09053 |\n",
      "|  r2  | 0.9104  | 0.9095  |\n",
      "+------+---------+---------+\n",
      "\n",
      "Epoch 79/200\n"
     ]
    },
    {
     "name": "stderr",
     "output_type": "stream",
     "text": [
      "train 0: 100%|██████████| 596/596 [00:41<00:00, 14.51it/s, loss=0.1079, r2=0.8929]\n"
     ]
    },
    {
     "name": "stdout",
     "output_type": "stream",
     "text": [
      "+------+---------+---------+\n",
      "|      |  Train  |  Test   |\n",
      "+------+---------+---------+\n",
      "| loss | 0.09057 | 0.08888 |\n",
      "|  r2  | 0.9094  | 0.9111  |\n",
      "+------+---------+---------+\n",
      "\n",
      "Epoch 80/200\n"
     ]
    },
    {
     "name": "stderr",
     "output_type": "stream",
     "text": [
      "train 0: 100%|██████████| 596/596 [00:41<00:00, 14.39it/s, loss=0.1026, r2=0.8979]\n"
     ]
    },
    {
     "name": "stdout",
     "output_type": "stream",
     "text": [
      "+------+---------+---------+\n",
      "|      |  Train  |  Test   |\n",
      "+------+---------+---------+\n",
      "| loss | 0.09135 | 0.09312 |\n",
      "|  r2  | 0.9087  | 0.9069  |\n",
      "+------+---------+---------+\n",
      "\n",
      "Epoch 81/200\n"
     ]
    },
    {
     "name": "stderr",
     "output_type": "stream",
     "text": [
      "train 0: 100%|██████████| 596/596 [00:40<00:00, 14.56it/s, loss=0.1031, r2=0.8972]\n"
     ]
    },
    {
     "name": "stdout",
     "output_type": "stream",
     "text": [
      "+------+---------+---------+\n",
      "|      |  Train  |  Test   |\n",
      "+------+---------+---------+\n",
      "| loss | 0.08975 | 0.09243 |\n",
      "|  r2  | 0.9102  | 0.9076  |\n",
      "+------+---------+---------+\n",
      "\n",
      "Epoch 82/200\n"
     ]
    },
    {
     "name": "stderr",
     "output_type": "stream",
     "text": [
      "train 0: 100%|██████████| 596/596 [00:42<00:00, 14.14it/s, loss=0.2010, r2=0.7987]\n"
     ]
    },
    {
     "name": "stdout",
     "output_type": "stream",
     "text": [
      "+------+---------+---------+\n",
      "|      |  Train  |  Test   |\n",
      "+------+---------+---------+\n",
      "| loss | 0.08971 | 0.08629 |\n",
      "|  r2  | 0.9103  | 0.9137  |\n",
      "+------+---------+---------+\n",
      "\n",
      "Epoch 83/200\n"
     ]
    },
    {
     "name": "stderr",
     "output_type": "stream",
     "text": [
      "train 0: 100%|██████████| 596/596 [00:41<00:00, 14.50it/s, loss=0.0768, r2=0.9237]\n"
     ]
    },
    {
     "name": "stdout",
     "output_type": "stream",
     "text": [
      "+------+---------+--------+\n",
      "|      |  Train  |  Test  |\n",
      "+------+---------+--------+\n",
      "| loss | 0.08908 | 0.0855 |\n",
      "|  r2  | 0.9109  | 0.9145 |\n",
      "+------+---------+--------+\n",
      "\n",
      "Epoch 84/200\n"
     ]
    },
    {
     "name": "stderr",
     "output_type": "stream",
     "text": [
      "train 0: 100%|██████████| 596/596 [00:41<00:00, 14.47it/s, loss=0.1450, r2=0.8547]\n"
     ]
    },
    {
     "name": "stdout",
     "output_type": "stream",
     "text": [
      "+------+---------+---------+\n",
      "|      |  Train  |  Test   |\n",
      "+------+---------+---------+\n",
      "| loss | 0.09173 | 0.08607 |\n",
      "|  r2  | 0.9083  | 0.9139  |\n",
      "+------+---------+---------+\n",
      "\n",
      "Epoch 85/200\n"
     ]
    },
    {
     "name": "stderr",
     "output_type": "stream",
     "text": [
      "train 0: 100%|██████████| 596/596 [00:41<00:00, 14.45it/s, loss=0.0764, r2=0.9237]\n"
     ]
    },
    {
     "name": "stdout",
     "output_type": "stream",
     "text": [
      "+------+---------+---------+\n",
      "|      |  Train  |  Test   |\n",
      "+------+---------+---------+\n",
      "| loss | 0.09026 | 0.08486 |\n",
      "|  r2  | 0.9097  | 0.9152  |\n",
      "+------+---------+---------+\n",
      "\n",
      "Epoch 86/200\n"
     ]
    },
    {
     "name": "stderr",
     "output_type": "stream",
     "text": [
      "train 0: 100%|██████████| 596/596 [00:40<00:00, 14.55it/s, loss=0.1366, r2=0.8634]\n"
     ]
    },
    {
     "name": "stdout",
     "output_type": "stream",
     "text": [
      "+------+---------+---------+\n",
      "|      |  Train  |  Test   |\n",
      "+------+---------+---------+\n",
      "| loss | 0.09048 | 0.09413 |\n",
      "|  r2  | 0.9095  | 0.9060  |\n",
      "+------+---------+---------+\n",
      "\n",
      "Epoch 87/200\n"
     ]
    },
    {
     "name": "stderr",
     "output_type": "stream",
     "text": [
      "train 0: 100%|██████████| 596/596 [00:40<00:00, 14.55it/s, loss=0.0658, r2=0.9343]\n"
     ]
    },
    {
     "name": "stdout",
     "output_type": "stream",
     "text": [
      "+------+---------+---------+\n",
      "|      |  Train  |  Test   |\n",
      "+------+---------+---------+\n",
      "| loss | 0.09273 | 0.09128 |\n",
      "|  r2  | 0.9073  | 0.9087  |\n",
      "+------+---------+---------+\n",
      "\n",
      "Epoch 88/200\n"
     ]
    },
    {
     "name": "stderr",
     "output_type": "stream",
     "text": [
      "train 0: 100%|██████████| 596/596 [00:41<00:00, 14.24it/s, loss=0.0795, r2=0.9206]\n"
     ]
    },
    {
     "name": "stdout",
     "output_type": "stream",
     "text": [
      "+------+---------+---------+\n",
      "|      |  Train  |  Test   |\n",
      "+------+---------+---------+\n",
      "| loss | 0.08832 | 0.09641 |\n",
      "|  r2  | 0.9117  | 0.9036  |\n",
      "+------+---------+---------+\n",
      "\n",
      "Epoch 89/200\n"
     ]
    },
    {
     "name": "stderr",
     "output_type": "stream",
     "text": [
      "train 0: 100%|██████████| 596/596 [00:41<00:00, 14.52it/s, loss=0.0660, r2=0.9340]\n"
     ]
    },
    {
     "name": "stdout",
     "output_type": "stream",
     "text": [
      "+------+---------+---------+\n",
      "|      |  Train  |  Test   |\n",
      "+------+---------+---------+\n",
      "| loss | 0.08883 | 0.09141 |\n",
      "|  r2  | 0.9112  | 0.9086  |\n",
      "+------+---------+---------+\n",
      "\n",
      "Epoch 90/200\n"
     ]
    },
    {
     "name": "stderr",
     "output_type": "stream",
     "text": [
      "train 0: 100%|██████████| 596/596 [00:40<00:00, 14.54it/s, loss=0.0415, r2=0.9584]\n"
     ]
    },
    {
     "name": "stdout",
     "output_type": "stream",
     "text": [
      "+------+---------+---------+\n",
      "|      |  Train  |  Test   |\n",
      "+------+---------+---------+\n",
      "| loss | 0.08909 | 0.09241 |\n",
      "|  r2  | 0.9109  | 0.9076  |\n",
      "+------+---------+---------+\n",
      "\n",
      "Epoch 91/200\n"
     ]
    },
    {
     "name": "stderr",
     "output_type": "stream",
     "text": [
      "train 0: 100%|██████████| 596/596 [00:41<00:00, 14.50it/s, loss=0.0811, r2=0.9193]\n"
     ]
    },
    {
     "name": "stdout",
     "output_type": "stream",
     "text": [
      "+------+---------+---------+\n",
      "|      |  Train  |  Test   |\n",
      "+------+---------+---------+\n",
      "| loss | 0.09027 | 0.08768 |\n",
      "|  r2  | 0.9097  | 0.9123  |\n",
      "+------+---------+---------+\n",
      "\n",
      "Epoch 92/200\n"
     ]
    },
    {
     "name": "stderr",
     "output_type": "stream",
     "text": [
      "train 0: 100%|██████████| 596/596 [00:41<00:00, 14.52it/s, loss=0.0418, r2=0.9582]\n"
     ]
    },
    {
     "name": "stdout",
     "output_type": "stream",
     "text": [
      "+------+---------+--------+\n",
      "|      |  Train  |  Test  |\n",
      "+------+---------+--------+\n",
      "| loss | 0.08767 | 0.0921 |\n",
      "|  r2  | 0.9123  | 0.9079 |\n",
      "+------+---------+--------+\n",
      "\n",
      "Epoch 93/200\n"
     ]
    },
    {
     "name": "stderr",
     "output_type": "stream",
     "text": [
      "train 0: 100%|██████████| 596/596 [00:40<00:00, 14.54it/s, loss=0.0931, r2=0.9068]\n"
     ]
    },
    {
     "name": "stdout",
     "output_type": "stream",
     "text": [
      "+------+---------+---------+\n",
      "|      |  Train  |  Test   |\n",
      "+------+---------+---------+\n",
      "| loss | 0.08756 | 0.08862 |\n",
      "|  r2  | 0.9124  | 0.9114  |\n",
      "+------+---------+---------+\n",
      "\n",
      "Epoch 94/200\n"
     ]
    },
    {
     "name": "stderr",
     "output_type": "stream",
     "text": [
      "train 0: 100%|██████████| 596/596 [00:41<00:00, 14.51it/s, loss=0.0646, r2=0.9349]\n"
     ]
    },
    {
     "name": "stdout",
     "output_type": "stream",
     "text": [
      "+------+---------+---------+\n",
      "|      |  Train  |  Test   |\n",
      "+------+---------+---------+\n",
      "| loss | 0.08884 | 0.08639 |\n",
      "|  r2  | 0.9112  | 0.9136  |\n",
      "+------+---------+---------+\n",
      "\n",
      "Epoch 95/200\n"
     ]
    },
    {
     "name": "stderr",
     "output_type": "stream",
     "text": [
      "train 0: 100%|██████████| 596/596 [00:41<00:00, 14.53it/s, loss=0.1003, r2=0.8999]\n"
     ]
    },
    {
     "name": "stdout",
     "output_type": "stream",
     "text": [
      "+------+---------+---------+\n",
      "|      |  Train  |  Test   |\n",
      "+------+---------+---------+\n",
      "| loss | 0.08945 | 0.09611 |\n",
      "|  r2  | 0.9106  | 0.9039  |\n",
      "+------+---------+---------+\n",
      "\n",
      "Epoch 96/200\n"
     ]
    },
    {
     "name": "stderr",
     "output_type": "stream",
     "text": [
      "train 0: 100%|██████████| 596/596 [00:41<00:00, 14.49it/s, loss=0.0852, r2=0.9145]\n"
     ]
    },
    {
     "name": "stdout",
     "output_type": "stream",
     "text": [
      "+------+---------+---------+\n",
      "|      |  Train  |  Test   |\n",
      "+------+---------+---------+\n",
      "| loss | 0.08893 | 0.09213 |\n",
      "|  r2  | 0.9111  | 0.9079  |\n",
      "+------+---------+---------+\n",
      "\n",
      "Epoch 97/200\n"
     ]
    },
    {
     "name": "stderr",
     "output_type": "stream",
     "text": [
      "train 0: 100%|██████████| 596/596 [00:41<00:00, 14.52it/s, loss=0.1606, r2=0.8396]\n"
     ]
    },
    {
     "name": "stdout",
     "output_type": "stream",
     "text": [
      "+------+---------+---------+\n",
      "|      |  Train  |  Test   |\n",
      "+------+---------+---------+\n",
      "| loss | 0.08986 | 0.08679 |\n",
      "|  r2  | 0.9101  | 0.9132  |\n",
      "+------+---------+---------+\n",
      "\n",
      "Epoch 98/200\n"
     ]
    },
    {
     "name": "stderr",
     "output_type": "stream",
     "text": [
      "train 0: 100%|██████████| 596/596 [00:40<00:00, 14.56it/s, loss=0.0575, r2=0.9427]\n"
     ]
    },
    {
     "name": "stdout",
     "output_type": "stream",
     "text": [
      "+------+---------+---------+\n",
      "|      |  Train  |  Test   |\n",
      "+------+---------+---------+\n",
      "| loss | 0.09013 | 0.09283 |\n",
      "|  r2  | 0.9099  | 0.9072  |\n",
      "+------+---------+---------+\n",
      "\n",
      "Epoch 99/200\n"
     ]
    },
    {
     "name": "stderr",
     "output_type": "stream",
     "text": [
      "train 0: 100%|██████████| 596/596 [00:41<00:00, 14.51it/s, loss=0.0870, r2=0.9131]\n"
     ]
    },
    {
     "name": "stdout",
     "output_type": "stream",
     "text": [
      "+------+---------+---------+\n",
      "|      |  Train  |  Test   |\n",
      "+------+---------+---------+\n",
      "| loss | 0.08831 | 0.09426 |\n",
      "|  r2  | 0.9117  | 0.9057  |\n",
      "+------+---------+---------+\n",
      "\n",
      "Epoch 100/200\n"
     ]
    },
    {
     "name": "stderr",
     "output_type": "stream",
     "text": [
      "train 0: 100%|██████████| 596/596 [00:41<00:00, 14.43it/s, loss=0.1092, r2=0.8908]\n"
     ]
    },
    {
     "name": "stdout",
     "output_type": "stream",
     "text": [
      "+------+---------+---------+\n",
      "|      |  Train  |  Test   |\n",
      "+------+---------+---------+\n",
      "| loss | 0.08899 | 0.08968 |\n",
      "|  r2  | 0.9110  | 0.9103  |\n",
      "+------+---------+---------+\n",
      "\n",
      "Epoch 101/200\n"
     ]
    },
    {
     "name": "stderr",
     "output_type": "stream",
     "text": [
      "train 0: 100%|██████████| 596/596 [00:40<00:00, 14.55it/s, loss=0.1068, r2=0.8930]\n"
     ]
    },
    {
     "name": "stdout",
     "output_type": "stream",
     "text": [
      "+------+---------+---------+\n",
      "|      |  Train  |  Test   |\n",
      "+------+---------+---------+\n",
      "| loss | 0.08831 | 0.08998 |\n",
      "|  r2  | 0.9117  | 0.9100  |\n",
      "+------+---------+---------+\n",
      "\n",
      "Epoch 102/200\n"
     ]
    },
    {
     "name": "stderr",
     "output_type": "stream",
     "text": [
      "train 0: 100%|██████████| 596/596 [00:41<00:00, 14.53it/s, loss=0.0915, r2=0.9080]\n"
     ]
    },
    {
     "name": "stdout",
     "output_type": "stream",
     "text": [
      "+------+---------+---------+\n",
      "|      |  Train  |  Test   |\n",
      "+------+---------+---------+\n",
      "| loss | 0.08863 | 0.08696 |\n",
      "|  r2  | 0.9114  | 0.9130  |\n",
      "+------+---------+---------+\n",
      "\n",
      "Epoch 103/200\n"
     ]
    },
    {
     "name": "stderr",
     "output_type": "stream",
     "text": [
      "train 0: 100%|██████████| 596/596 [00:41<00:00, 14.53it/s, loss=0.1195, r2=0.8804]\n"
     ]
    },
    {
     "name": "stdout",
     "output_type": "stream",
     "text": [
      "+------+---------+---------+\n",
      "|      |  Train  |  Test   |\n",
      "+------+---------+---------+\n",
      "| loss | 0.08892 | 0.08897 |\n",
      "|  r2  | 0.9111  | 0.9110  |\n",
      "+------+---------+---------+\n",
      "\n",
      "Epoch 104/200\n"
     ]
    },
    {
     "name": "stderr",
     "output_type": "stream",
     "text": [
      "train 0: 100%|██████████| 596/596 [00:41<00:00, 14.50it/s, loss=0.0725, r2=0.9273]\n"
     ]
    },
    {
     "name": "stdout",
     "output_type": "stream",
     "text": [
      "+------+---------+---------+\n",
      "|      |  Train  |  Test   |\n",
      "+------+---------+---------+\n",
      "| loss | 0.08997 | 0.09004 |\n",
      "|  r2  | 0.9100  | 0.9100  |\n",
      "+------+---------+---------+\n",
      "\n",
      "Epoch 105/200\n"
     ]
    },
    {
     "name": "stderr",
     "output_type": "stream",
     "text": [
      "train 0: 100%|██████████| 596/596 [00:41<00:00, 14.43it/s, loss=0.1193, r2=0.8805]\n"
     ]
    },
    {
     "name": "stdout",
     "output_type": "stream",
     "text": [
      "+------+---------+---------+\n",
      "|      |  Train  |  Test   |\n",
      "+------+---------+---------+\n",
      "| loss | 0.09167 | 0.09097 |\n",
      "|  r2  | 0.9083  | 0.9090  |\n",
      "+------+---------+---------+\n",
      "\n",
      "Epoch 106/200\n"
     ]
    },
    {
     "name": "stderr",
     "output_type": "stream",
     "text": [
      "train 0: 100%|██████████| 596/596 [00:41<00:00, 14.52it/s, loss=0.0502, r2=0.9500]\n"
     ]
    },
    {
     "name": "stdout",
     "output_type": "stream",
     "text": [
      "+------+---------+---------+\n",
      "|      |  Train  |  Test   |\n",
      "+------+---------+---------+\n",
      "| loss | 0.08935 | 0.09149 |\n",
      "|  r2  | 0.9107  | 0.9086  |\n",
      "+------+---------+---------+\n",
      "\n",
      "Epoch 107/200\n"
     ]
    },
    {
     "name": "stderr",
     "output_type": "stream",
     "text": [
      "train 0: 100%|██████████| 596/596 [00:41<00:00, 14.50it/s, loss=0.1449, r2=0.8555]\n"
     ]
    },
    {
     "name": "stdout",
     "output_type": "stream",
     "text": [
      "+------+---------+---------+\n",
      "|      |  Train  |  Test   |\n",
      "+------+---------+---------+\n",
      "| loss | 0.08873 | 0.08221 |\n",
      "|  r2  | 0.9113  | 0.9178  |\n",
      "+------+---------+---------+\n",
      "\n",
      "Epoch 108/200\n"
     ]
    },
    {
     "name": "stderr",
     "output_type": "stream",
     "text": [
      "train 0: 100%|██████████| 596/596 [00:41<00:00, 14.51it/s, loss=0.0510, r2=0.9490]\n"
     ]
    },
    {
     "name": "stdout",
     "output_type": "stream",
     "text": [
      "+------+---------+---------+\n",
      "|      |  Train  |  Test   |\n",
      "+------+---------+---------+\n",
      "| loss | 0.09003 | 0.08941 |\n",
      "|  r2  | 0.9100  | 0.9105  |\n",
      "+------+---------+---------+\n",
      "\n",
      "Epoch 109/200\n"
     ]
    },
    {
     "name": "stderr",
     "output_type": "stream",
     "text": [
      "train 0: 100%|██████████| 596/596 [00:41<00:00, 14.48it/s, loss=0.0790, r2=0.9211]\n"
     ]
    },
    {
     "name": "stdout",
     "output_type": "stream",
     "text": [
      "+------+---------+---------+\n",
      "|      |  Train  |  Test   |\n",
      "+------+---------+---------+\n",
      "| loss | 0.08991 | 0.08686 |\n",
      "|  r2  | 0.9101  | 0.9131  |\n",
      "+------+---------+---------+\n",
      "\n",
      "Epoch 110/200\n"
     ]
    },
    {
     "name": "stderr",
     "output_type": "stream",
     "text": [
      "train 0: 100%|██████████| 596/596 [00:41<00:00, 14.46it/s, loss=0.1101, r2=0.8904]\n"
     ]
    },
    {
     "name": "stdout",
     "output_type": "stream",
     "text": [
      "+------+---------+---------+\n",
      "|      |  Train  |  Test   |\n",
      "+------+---------+---------+\n",
      "| loss | 0.08934 | 0.08805 |\n",
      "|  r2  | 0.9107  | 0.9120  |\n",
      "+------+---------+---------+\n",
      "\n",
      "Epoch 111/200\n"
     ]
    },
    {
     "name": "stderr",
     "output_type": "stream",
     "text": [
      "train 0: 100%|██████████| 596/596 [00:41<00:00, 14.42it/s, loss=0.0991, r2=0.9008]\n"
     ]
    },
    {
     "name": "stdout",
     "output_type": "stream",
     "text": [
      "+------+--------+---------+\n",
      "|      | Train  |  Test   |\n",
      "+------+--------+---------+\n",
      "| loss | 0.0894 | 0.08417 |\n",
      "|  r2  | 0.9106 | 0.9159  |\n",
      "+------+--------+---------+\n",
      "\n",
      "Epoch 112/200\n"
     ]
    },
    {
     "name": "stderr",
     "output_type": "stream",
     "text": [
      "train 0: 100%|██████████| 596/596 [00:41<00:00, 14.49it/s, loss=0.0475, r2=0.9525]\n"
     ]
    },
    {
     "name": "stdout",
     "output_type": "stream",
     "text": [
      "+------+---------+---------+\n",
      "|      |  Train  |  Test   |\n",
      "+------+---------+---------+\n",
      "| loss | 0.08946 | 0.08641 |\n",
      "|  r2  | 0.9105  | 0.9136  |\n",
      "+------+---------+---------+\n",
      "\n",
      "Epoch 113/200\n"
     ]
    },
    {
     "name": "stderr",
     "output_type": "stream",
     "text": [
      "train 0: 100%|██████████| 596/596 [00:43<00:00, 13.64it/s, loss=0.1599, r2=0.8405]\n"
     ]
    },
    {
     "name": "stdout",
     "output_type": "stream",
     "text": [
      "+------+---------+---------+\n",
      "|      |  Train  |  Test   |\n",
      "+------+---------+---------+\n",
      "| loss | 0.09051 | 0.07768 |\n",
      "|  r2  | 0.9095  | 0.9223  |\n",
      "+------+---------+---------+\n",
      "saved epoch-113\n",
      "\n",
      "Epoch 114/200\n"
     ]
    },
    {
     "name": "stderr",
     "output_type": "stream",
     "text": [
      "train 0: 100%|██████████| 596/596 [00:43<00:00, 13.72it/s, loss=0.0866, r2=0.9135]\n"
     ]
    },
    {
     "name": "stdout",
     "output_type": "stream",
     "text": [
      "+------+---------+---------+\n",
      "|      |  Train  |  Test   |\n",
      "+------+---------+---------+\n",
      "| loss | 0.09099 | 0.09804 |\n",
      "|  r2  | 0.9090  | 0.9020  |\n",
      "+------+---------+---------+\n",
      "\n",
      "Epoch 115/200\n"
     ]
    },
    {
     "name": "stderr",
     "output_type": "stream",
     "text": [
      "train 0: 100%|██████████| 596/596 [00:43<00:00, 13.55it/s, loss=0.1266, r2=0.8735]\n"
     ]
    },
    {
     "name": "stdout",
     "output_type": "stream",
     "text": [
      "+------+---------+---------+\n",
      "|      |  Train  |  Test   |\n",
      "+------+---------+---------+\n",
      "| loss | 0.08983 | 0.08048 |\n",
      "|  r2  | 0.9102  | 0.9196  |\n",
      "+------+---------+---------+\n",
      "\n",
      "Epoch 116/200\n"
     ]
    },
    {
     "name": "stderr",
     "output_type": "stream",
     "text": [
      "train 0: 100%|██████████| 596/596 [00:41<00:00, 14.49it/s, loss=0.0416, r2=0.9585]\n"
     ]
    },
    {
     "name": "stdout",
     "output_type": "stream",
     "text": [
      "+------+---------+---------+\n",
      "|      |  Train  |  Test   |\n",
      "+------+---------+---------+\n",
      "| loss | 0.08878 | 0.08893 |\n",
      "|  r2  | 0.9112  | 0.9111  |\n",
      "+------+---------+---------+\n",
      "\n",
      "Epoch 117/200\n"
     ]
    },
    {
     "name": "stderr",
     "output_type": "stream",
     "text": [
      "train 0: 100%|██████████| 596/596 [00:41<00:00, 14.41it/s, loss=0.0482, r2=0.9515]\n"
     ]
    },
    {
     "name": "stdout",
     "output_type": "stream",
     "text": [
      "+------+---------+---------+\n",
      "|      |  Train  |  Test   |\n",
      "+------+---------+---------+\n",
      "| loss | 0.09142 | 0.08145 |\n",
      "|  r2  | 0.9086  | 0.9185  |\n",
      "+------+---------+---------+\n",
      "\n",
      "Epoch 118/200\n"
     ]
    },
    {
     "name": "stderr",
     "output_type": "stream",
     "text": [
      "train 0: 100%|██████████| 596/596 [00:41<00:00, 14.52it/s, loss=0.0935, r2=0.9073]\n"
     ]
    },
    {
     "name": "stdout",
     "output_type": "stream",
     "text": [
      "+------+--------+---------+\n",
      "|      | Train  |  Test   |\n",
      "+------+--------+---------+\n",
      "| loss | 0.0882 | 0.08763 |\n",
      "|  r2  | 0.9118 | 0.9124  |\n",
      "+------+--------+---------+\n",
      "\n",
      "Epoch 119/200\n"
     ]
    },
    {
     "name": "stderr",
     "output_type": "stream",
     "text": [
      "train 0: 100%|██████████| 596/596 [00:41<00:00, 14.52it/s, loss=0.0836, r2=0.9164]\n"
     ]
    },
    {
     "name": "stdout",
     "output_type": "stream",
     "text": [
      "+------+---------+--------+\n",
      "|      |  Train  |  Test  |\n",
      "+------+---------+--------+\n",
      "| loss | 0.08886 | 0.0942 |\n",
      "|  r2  | 0.9111  | 0.9058 |\n",
      "+------+---------+--------+\n",
      "\n",
      "Epoch 120/200\n"
     ]
    },
    {
     "name": "stderr",
     "output_type": "stream",
     "text": [
      "train 0: 100%|██████████| 596/596 [00:41<00:00, 14.47it/s, loss=0.0694, r2=0.9306]\n"
     ]
    },
    {
     "name": "stdout",
     "output_type": "stream",
     "text": [
      "+------+---------+---------+\n",
      "|      |  Train  |  Test   |\n",
      "+------+---------+---------+\n",
      "| loss | 0.08614 | 0.09197 |\n",
      "|  r2  | 0.9139  | 0.9080  |\n",
      "+------+---------+---------+\n",
      "\n",
      "Epoch 121/200\n"
     ]
    },
    {
     "name": "stderr",
     "output_type": "stream",
     "text": [
      "train 0: 100%|██████████| 596/596 [00:41<00:00, 14.49it/s, loss=0.0746, r2=0.9253]\n"
     ]
    },
    {
     "name": "stdout",
     "output_type": "stream",
     "text": [
      "+------+---------+---------+\n",
      "|      |  Train  |  Test   |\n",
      "+------+---------+---------+\n",
      "| loss | 0.08895 | 0.08737 |\n",
      "|  r2  | 0.9110  | 0.9126  |\n",
      "+------+---------+---------+\n",
      "\n",
      "Epoch 122/200\n"
     ]
    },
    {
     "name": "stderr",
     "output_type": "stream",
     "text": [
      "train 0: 100%|██████████| 596/596 [00:41<00:00, 14.46it/s, loss=0.0887, r2=0.9108]\n"
     ]
    },
    {
     "name": "stdout",
     "output_type": "stream",
     "text": [
      "+------+---------+---------+\n",
      "|      |  Train  |  Test   |\n",
      "+------+---------+---------+\n",
      "| loss | 0.08866 | 0.08748 |\n",
      "|  r2  | 0.9113  | 0.9125  |\n",
      "+------+---------+---------+\n",
      "\n",
      "Epoch 123/200\n"
     ]
    },
    {
     "name": "stderr",
     "output_type": "stream",
     "text": [
      "train 0: 100%|██████████| 596/596 [00:41<00:00, 14.49it/s, loss=0.1092, r2=0.8912]\n"
     ]
    },
    {
     "name": "stdout",
     "output_type": "stream",
     "text": [
      "+------+---------+---------+\n",
      "|      |  Train  |  Test   |\n",
      "+------+---------+---------+\n",
      "| loss | 0.08944 | 0.08854 |\n",
      "|  r2  | 0.9106  | 0.9115  |\n",
      "+------+---------+---------+\n",
      "\n",
      "Epoch 124/200\n"
     ]
    },
    {
     "name": "stderr",
     "output_type": "stream",
     "text": [
      "train 0: 100%|██████████| 596/596 [00:41<00:00, 14.51it/s, loss=0.1183, r2=0.8815]\n"
     ]
    },
    {
     "name": "stdout",
     "output_type": "stream",
     "text": [
      "+------+---------+---------+\n",
      "|      |  Train  |  Test   |\n",
      "+------+---------+---------+\n",
      "| loss | 0.08895 | 0.08718 |\n",
      "|  r2  | 0.9110  | 0.9129  |\n",
      "+------+---------+---------+\n",
      "\n",
      "Epoch 125/200\n"
     ]
    },
    {
     "name": "stderr",
     "output_type": "stream",
     "text": [
      "train 0: 100%|██████████| 596/596 [00:41<00:00, 14.48it/s, loss=0.0997, r2=0.8999]\n"
     ]
    },
    {
     "name": "stdout",
     "output_type": "stream",
     "text": [
      "+------+---------+---------+\n",
      "|      |  Train  |  Test   |\n",
      "+------+---------+---------+\n",
      "| loss | 0.08869 | 0.08445 |\n",
      "|  r2  | 0.9113  | 0.9156  |\n",
      "+------+---------+---------+\n",
      "\n",
      "Epoch 126/200\n"
     ]
    },
    {
     "name": "stderr",
     "output_type": "stream",
     "text": [
      "train 0: 100%|██████████| 596/596 [00:41<00:00, 14.51it/s, loss=0.1330, r2=0.8674]\n"
     ]
    },
    {
     "name": "stdout",
     "output_type": "stream",
     "text": [
      "+------+---------+---------+\n",
      "|      |  Train  |  Test   |\n",
      "+------+---------+---------+\n",
      "| loss | 0.08909 | 0.08999 |\n",
      "|  r2  | 0.9109  | 0.9100  |\n",
      "+------+---------+---------+\n",
      "\n",
      "Epoch 127/200\n"
     ]
    },
    {
     "name": "stderr",
     "output_type": "stream",
     "text": [
      "train 0: 100%|██████████| 596/596 [00:41<00:00, 14.47it/s, loss=0.1029, r2=0.8964]\n"
     ]
    },
    {
     "name": "stdout",
     "output_type": "stream",
     "text": [
      "+------+---------+---------+\n",
      "|      |  Train  |  Test   |\n",
      "+------+---------+---------+\n",
      "| loss | 0.08723 | 0.08093 |\n",
      "|  r2  | 0.9128  | 0.9191  |\n",
      "+------+---------+---------+\n",
      "\n",
      "Epoch 128/200\n"
     ]
    },
    {
     "name": "stderr",
     "output_type": "stream",
     "text": [
      "train 0: 100%|██████████| 596/596 [00:41<00:00, 14.47it/s, loss=0.0764, r2=0.9237]\n"
     ]
    },
    {
     "name": "stdout",
     "output_type": "stream",
     "text": [
      "+------+---------+---------+\n",
      "|      |  Train  |  Test   |\n",
      "+------+---------+---------+\n",
      "| loss | 0.08715 | 0.08472 |\n",
      "|  r2  | 0.9128  | 0.9153  |\n",
      "+------+---------+---------+\n",
      "\n",
      "Epoch 129/200\n"
     ]
    },
    {
     "name": "stderr",
     "output_type": "stream",
     "text": [
      "train 0: 100%|██████████| 596/596 [00:42<00:00, 14.15it/s, loss=0.0816, r2=0.9187]\n"
     ]
    },
    {
     "name": "stdout",
     "output_type": "stream",
     "text": [
      "+------+---------+---------+\n",
      "|      |  Train  |  Test   |\n",
      "+------+---------+---------+\n",
      "| loss | 0.08791 | 0.08628 |\n",
      "|  r2  | 0.9121  | 0.9137  |\n",
      "+------+---------+---------+\n",
      "\n",
      "Epoch 130/200\n"
     ]
    },
    {
     "name": "stderr",
     "output_type": "stream",
     "text": [
      "train 0: 100%|██████████| 596/596 [00:42<00:00, 14.04it/s, loss=0.0419, r2=0.9580]\n"
     ]
    },
    {
     "name": "stdout",
     "output_type": "stream",
     "text": [
      "+------+---------+---------+\n",
      "|      |  Train  |  Test   |\n",
      "+------+---------+---------+\n",
      "| loss | 0.08888 | 0.08185 |\n",
      "|  r2  | 0.9111  | 0.9182  |\n",
      "+------+---------+---------+\n",
      "\n",
      "Epoch 131/200\n"
     ]
    },
    {
     "name": "stderr",
     "output_type": "stream",
     "text": [
      "train 0: 100%|██████████| 596/596 [00:43<00:00, 13.77it/s, loss=0.1775, r2=0.8224]\n"
     ]
    },
    {
     "name": "stdout",
     "output_type": "stream",
     "text": [
      "+------+---------+---------+\n",
      "|      |  Train  |  Test   |\n",
      "+------+---------+---------+\n",
      "| loss | 0.08831 | 0.09129 |\n",
      "|  r2  | 0.9117  | 0.9087  |\n",
      "+------+---------+---------+\n",
      "\n",
      "Epoch 132/200\n"
     ]
    },
    {
     "name": "stderr",
     "output_type": "stream",
     "text": [
      "train 0: 100%|██████████| 596/596 [00:41<00:00, 14.50it/s, loss=0.1087, r2=0.8914]\n"
     ]
    },
    {
     "name": "stdout",
     "output_type": "stream",
     "text": [
      "+------+---------+---------+\n",
      "|      |  Train  |  Test   |\n",
      "+------+---------+---------+\n",
      "| loss | 0.08909 | 0.08838 |\n",
      "|  r2  | 0.9109  | 0.9116  |\n",
      "+------+---------+---------+\n",
      "\n",
      "Epoch 133/200\n"
     ]
    },
    {
     "name": "stderr",
     "output_type": "stream",
     "text": [
      "train 0:   7%|▋         | 41/596 [00:04<00:55, 10.08it/s, loss=0.0897, r2=0.9106]"
     ]
    },
    {
     "name": "stdout",
     "output_type": "stream",
     "text": [
      "Interrupt training\n"
     ]
    },
    {
     "name": "stderr",
     "output_type": "stream",
     "text": [
      "\n"
     ]
    }
   ],
   "source": [
    "from kemsekov_torch.train import *\n",
    "import warnings\n",
    "warnings.filterwarnings(\"ignore\")\n",
    "\n",
    "def r2_score(predictions: torch.Tensor, targets: torch.Tensor) -> float:\n",
    "    \"\"\"\n",
    "    Computes the R² (coefficient of determination) metric.\n",
    "\n",
    "    Args:\n",
    "        predictions (torch.Tensor): Predicted values tensor.\n",
    "        targets (torch.Tensor): Actual target values tensor.\n",
    "\n",
    "    Returns:\n",
    "        float: R² score representing how well the predictions approximate the targets.\n",
    "    \"\"\"\n",
    "    # Compute the total sum of squares (variance of the target)\n",
    "    target_mean = torch.mean(targets)\n",
    "    total_variance = torch.sum((targets - target_mean) ** 2)\n",
    "    \n",
    "    # Compute the residual sum of squares128\n",
    "    residual_variance = torch.sum((targets - predictions) ** 2)\n",
    "    \n",
    "    # Calculate the R² score\n",
    "    r2 = 1 - (residual_variance / total_variance)\n",
    "    \n",
    "    return r2.item()\n",
    "\n",
    "timesteps=128\n",
    "diff_util = DiffusionUtils(timesteps)\n",
    "\n",
    "def compute_loss_and_metric(model,batch):\n",
    "    image,desc = batch\n",
    "    image=(image-images_mean.to(image.device))/images_std.to(image.device)\n",
    "    time = torch.randint(0,timesteps-1,(len(image),))\n",
    "    noised_samples,noise = diff_util.diffusion_forward(image,time)\n",
    "    pred_noise = model(noised_samples,time)\n",
    "    \n",
    "    loss = torch.mean((pred_noise-noise)**2)\n",
    "    r2 = r2_score(pred_noise,noise)\n",
    "    return loss,{\n",
    "        'r2':r2,\n",
    "    }\n",
    "\n",
    "# it works better without scheduler \n",
    "epochs = 200\n",
    "optim = torch.optim.AdamW(diff.parameters(),lr=1e-4)\n",
    "sch = torch.optim.lr_scheduler.CosineAnnealingLR(optim,len(train_loader))\n",
    "\n",
    "path = \"runs/diffusion-cat-dog-moreattn\"\n",
    "_ = train(\n",
    "    diff,\n",
    "    train_loader,\n",
    "    test_loader,\n",
    "    compute_loss_and_metric,\n",
    "    path,\n",
    "    os.path.join(path,'last'),\n",
    "    # scheduler=sch,\n",
    "    optimizer=optim,\n",
    "    gradient_clipping_max_norm=1,\n",
    "    accelerate_args={\n",
    "        'mixed_precision':'bf16',\n",
    "        # 'dynamo_backend':'inductor', #painfully slow starts\n",
    "        # 'gradient_accumulation_steps':4\n",
    "    },\n",
    "    save_on_metric_improve=['r2'],\n",
    "    num_epochs=epochs,\n",
    ")"
   ]
  },
  {
   "cell_type": "code",
   "execution_count": 6,
   "metadata": {},
   "outputs": [
    {
     "name": "stdout",
     "output_type": "stream",
     "text": [
      "loading runs/diffusion-cat-dog-moreattn/last/state\n"
     ]
    }
   ],
   "source": [
    "diff = torch.jit.load(os.path.join(path,'model.pt'))\n",
    "# diff = load_checkpoint(diff,path,-1)\n",
    "diff = load_last_checkpoint(diff,path)\n",
    "diff = diff.train().eval().float()"
   ]
  },
  {
   "cell_type": "code",
   "execution_count": 16,
   "metadata": {},
   "outputs": [
    {
     "name": "stdout",
     "output_type": "stream",
     "text": [
      "tensor(0.8028) tensor(1.1067)\n"
     ]
    },
    {
     "data": {
      "image/jpeg": "[encoded data removed]",
      "image/png": "[encoded data removed]",
      "text/plain": [
       "<PIL.Image.Image image mode=RGB size=64x64>"
      ]
     },
     "execution_count": 16,
     "metadata": {},
     "output_type": "execute_result"
    }
   ],
   "source": [
    "inference_timesteps = 64\n",
    "# torch.random.manual_seed(1)\n",
    "pred = sample(\n",
    "    diff,\n",
    "    (1,in_channels,64,64),\n",
    "    128,\n",
    "    inference_timesteps,\n",
    "    normalize_pred=False,\n",
    "    regenerate_noise=False,\n",
    "    rescale_generated_noise=False\n",
    ").cpu()#.sigmoid()\n",
    "print(pred.mean(),pred.std())\n",
    "pred-=pred.min()\n",
    "pred/=pred.max()\n",
    "T.ToPILImage()(pred[0])"
   ]
  }
 ],
 "metadata": {
  "kernelspec": {
   "display_name": "venv",
   "language": "python",
   "name": "python3"
  },
  "language_info": {
   "codemirror_mode": {
    "name": "ipython",
    "version": 3
   },
   "file_extension": ".py",
   "mimetype": "text/x-python",
   "name": "python",
   "nbconvert_exporter": "python",
   "pygments_lexer": "ipython3",
   "version": "3.12.3"
  }
 },
 "nbformat": 4,
 "nbformat_minor": 2
}
