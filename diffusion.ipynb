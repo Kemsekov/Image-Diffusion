{
 "cells": [
  {
   "cell_type": "code",
   "execution_count": 1,
   "metadata": {},
   "outputs": [
    {
     "name": "stdout",
     "output_type": "stream",
     "text": [
      "fatal: destination path 'kemsekov_torch' already exists and is not an empty directory.\n"
     ]
    }
   ],
   "source": [
    "!git clone https://github.com/Kemsekov/kemsekov_torch"
   ]
  },
  {
   "cell_type": "code",
   "execution_count": 2,
   "metadata": {},
   "outputs": [
    {
     "name": "stdout",
     "output_type": "stream",
     "text": [
      "2283 \n"
     ]
    },
    {
     "data": {
      "image/jpeg": "[encoded data removed]",
      "image/png": "[encoded data removed]",
      "text/plain": [
       "<PIL.Image.Image image mode=RGB size=128x128>"
      ]
     },
     "metadata": {},
     "output_type": "display_data"
    }
   ],
   "source": [
    "# load dataset for diffusion model to learn\n",
    "import os\n",
    "import PIL\n",
    "import numpy as np\n",
    "import torch\n",
    "import torch.nn as nn\n",
    "import random\n",
    "from kemsekov_torch.train import split_dataset\n",
    "import torchvision.transforms as T\n",
    "\n",
    "# if some images have alpha we replace it with zeros\n",
    "def process_alpha_image(img):\n",
    "    # Open the image and convert to RGB from RGBA\n",
    "    img_array = np.array(img)\n",
    "    if len(img_array.shape)<3: return img\n",
    "    if img_array.shape[-1]<4: \n",
    "        return img\n",
    "    # Split into channels\n",
    "    r, g, b, a = img_array[:, :, 0], img_array[:, :, 1], img_array[:, :, 2], img_array[:, :, 3]\n",
    "    \n",
    "    # Set RGB to 0 where alpha is 0\n",
    "    r[a == 0] = 0\n",
    "    g[a == 0] = 0\n",
    "    b[a == 0] = 0\n",
    "    \n",
    "    # Create new RGB image array\n",
    "    new_img_array = np.dstack((r, g, b)).astype(np.uint8)\n",
    "    \n",
    "    # Convert back to PIL Image and return\n",
    "    return PIL.Image.fromarray(new_img_array)\n",
    "\n",
    "class JustImagesDataset(torch.utils.data.Dataset):\n",
    "    def __init__(self, images_folder, image_transform=None):\n",
    "        super().__init__()\n",
    "        allowed_formats = ['.png', '.jpg', '.jpeg', '.webp']\n",
    "        self.images = []\n",
    "        for root, _, files in os.walk(images_folder):\n",
    "            self.images.extend(os.path.join(root, v) for v in files if any([v.endswith(f) for f in allowed_formats]))\n",
    "        self.transform = nn.Identity() if image_transform is None else image_transform\n",
    "        \n",
    "    def __getitem__(self, index):\n",
    "        im = self.images[index]\n",
    "        im = PIL.Image.open(im)\n",
    "        im = process_alpha_image(im)\n",
    "        im = self.transform(im)\n",
    "        return im, ''\n",
    "    \n",
    "    def __len__(self): return len(self.images)\n",
    "\n",
    "# if some images are grayscale we map them to grayscale rgb\n",
    "def add_dim(x):\n",
    "    if len(x.shape)<3: return x[None,:][[0,0,0]]\n",
    "    if x.shape[0]==1: return x[[0,0,0]]\n",
    "    return x\n",
    "\n",
    "IM_SIZE=128\n",
    "transform = T.Compose([\n",
    "    T.ToTensor(),\n",
    "    T.RandomHorizontalFlip(),\n",
    "    T.Resize(IM_SIZE),\n",
    "    T.RandomCrop((IM_SIZE,IM_SIZE)),\n",
    "    T.Lambda(add_dim)\n",
    "])\n",
    "\n",
    "PATH_TO_IMAGES='/home/vlad/Documents/image-classification/lungs_normal/'\n",
    "dataset = JustImagesDataset(PATH_TO_IMAGES,transform)\n",
    "\n",
    "batch_size=32\n",
    "train_dataset,test_dataset,train_loader, test_loader = split_dataset(dataset,batch_size=batch_size,test_size=0.05)\n",
    "\n",
    "ind = random.randint(0,len(dataset)-1)\n",
    "# ind = 315\n",
    "im,desc = dataset[ind]\n",
    "print(ind,desc)\n",
    "display(T.ToPILImage()(im))"
   ]
  },
  {
   "cell_type": "code",
   "execution_count": 3,
   "metadata": {},
   "outputs": [],
   "source": [
    "# define diffusion model\n",
    "from kemsekov_torch.diffusion import DiffusionUtils, sample\n",
    "from kemsekov_torch.residual import Residual, ResidualBlock\n",
    "from kemsekov_torch.attention import LinearSelfAttentionBlock, FlattenSpatialDimensions\n",
    "from kemsekov_torch.rotary_emb import RotaryEmbInplace\n",
    "from kemsekov_torch.positional_emb import ConcatPositionalEmbeddingPermute, PositionalEncodingPermute\n",
    "\n",
    "class TimeContextEmbedding(torch.nn.Module):\n",
    "    def __init__(self,in_channels,dimensions=2,max_timesteps=1024):\n",
    "        \"\"\"\n",
    "        Layer that combines input x and timestep .\n",
    "        \n",
    "        in_channels: input channels\n",
    "        \n",
    "        dimensions: input/context spatial dimensions count\n",
    "        \n",
    "        max_timesteps: this parameter defines max timestep input value.\n",
    "        \"\"\"\n",
    "        super().__init__()\n",
    "        self.combine_x_time = [nn.Conv1d,nn.Conv2d,nn.Conv3d][dimensions-1](2*in_channels,in_channels,kernel_size=1)\n",
    "        x=torch.randn((1,in_channels,max_timesteps,1))\n",
    "        time = PositionalEncodingPermute(in_channels,freq=max_timesteps)(x)\n",
    "        time = time[0].transpose(0,1)[...,0]\n",
    "        self.time_emb = torch.nn.Parameter(time)\n",
    "        \n",
    "    def forward(self,x,timestep):\n",
    "        \"\"\"\n",
    "        x: input of shape (B,C,...) where ... is spatial dimensions\n",
    "        timestep: long tensor of shape (B). It is a timestep for each element in batch.\n",
    "        \"\"\"\n",
    "        time = self.time_emb[timestep.cpu()].to(x.device)\n",
    "        dims = list(time.shape)+[1]*(len(x.shape)-2)\n",
    "        time=time.view(dims).expand_as(x)\n",
    "        x_t = self.combine_x_time(torch.concat([x,time],1))\n",
    "        return x_t\n",
    "\n",
    "class DiffusionBlock(torch.nn.Module):\n",
    "    \"\"\"\n",
    "    Diffusion unet block, that combines downsample/upsample operation and linear transformer blocks\n",
    "    \"\"\"\n",
    "    def __init__(self,in_channels,out_channels,transformer_blocks = 0,residual_blocks=2,attn_heads=8,max_timesteps=64,normalization='batch',dimensions=2):\n",
    "        super().__init__()\n",
    "        mlp_dim=out_channels*2\n",
    "        self.down = ResidualBlock(\n",
    "            in_channels,\n",
    "            out_channels,\n",
    "            kernel_size=4,\n",
    "            stride=2,\n",
    "            dimensions=dimensions,\n",
    "            normalization=normalization,\n",
    "        )\n",
    "        \n",
    "        self.residual_blocks = Residual(\n",
    "            [\n",
    "                ResidualBlock(\n",
    "                    out_channels,\n",
    "                    [mlp_dim,out_channels],\n",
    "                    kernel_size=3,\n",
    "                    stride=1,\n",
    "                    dimensions=dimensions,\n",
    "                    normalization=normalization,\n",
    "                )\n",
    "                for i in range(residual_blocks)\n",
    "            ]\n",
    "        )\n",
    "        \n",
    "        self.embed_context_to_down = TimeContextEmbedding(out_channels,dimensions,max_timesteps)\n",
    "        if transformer_blocks>0:\n",
    "            # add self attention with rotary embedding optimized for pixel data\n",
    "            self.sa = Residual([\n",
    "                RotaryEmbInplace(out_channels,freqs_for='pixel'),\n",
    "                FlattenSpatialDimensions([\n",
    "                    LinearSelfAttentionBlock(out_channels,mlp_dim,attn_heads)\n",
    "                    for i in range(transformer_blocks)\n",
    "                ])\n",
    "            ])\n",
    "        else:\n",
    "            self.sa = torch.nn.Identity()\n",
    "        \n",
    "    def forward(self,x,time):\n",
    "        xt = self.down(x)\n",
    "        xt = self.embed_context_to_down(xt,time)\n",
    "        xt = self.sa(xt)\n",
    "        xt = self.residual_blocks(xt)\n",
    "        return xt\n",
    "    \n",
    "    def transpose(self):\n",
    "        self.down = self.down.transpose()\n",
    "        return self\n",
    "\n",
    "class Diffusion(torch.nn.Module):\n",
    "    def __init__(self, in_channels,max_timesteps=1024):\n",
    "        super().__init__()\n",
    "        \n",
    "        common = dict(\n",
    "            normalization='batch',\n",
    "            attn_heads = 16,\n",
    "            dimensions = 2,\n",
    "            max_timesteps=max_timesteps,\n",
    "            residual_blocks=2,\n",
    "            \n",
    "        )\n",
    "        scale = 1\n",
    "        self.dimensions = common['dimensions']\n",
    "        self.in_channels=in_channels\n",
    "        self.down1 = DiffusionBlock(in_channels,64*scale,transformer_blocks=1,**common)\n",
    "        self.down2 = DiffusionBlock(64*scale,128*scale,transformer_blocks=1,**common )\n",
    "        self.down3 = DiffusionBlock(128*scale,256*scale,transformer_blocks=2,**common)\n",
    "        self.down4 = DiffusionBlock(256*scale,512*scale,transformer_blocks=2,**common)\n",
    "        \n",
    "        self.up1 = DiffusionBlock(512*scale,256*scale,**common).transpose()\n",
    "        self.merge_up1_down3 = nn.Conv2d(512*scale,256*scale,kernel_size=1)\n",
    "        \n",
    "        self.up2 = DiffusionBlock(256*scale,128*scale,**common).transpose()\n",
    "        self.merge_up2_down2 = nn.Conv2d(256*scale,128*scale,kernel_size=1)\n",
    "        \n",
    "        self.up3 = DiffusionBlock(128*scale,64*scale,**common).transpose()\n",
    "        self.merge_up3_down1 = nn.Conv2d(128*scale,64*scale,kernel_size=1)\n",
    "\n",
    "        self.up4 = DiffusionBlock(64*scale,64*scale,**common).transpose()\n",
    "        \n",
    "        # to produce proper logits, combine model output that input\n",
    "        self.final = nn.Sequential(\n",
    "            [torch.nn.Conv1d,torch.nn.Conv2d,torch.nn.Conv3d][self.dimensions-1](64*scale,in_channels,kernel_size=1)\n",
    "        )\n",
    "    \n",
    "    # x is batched single example with all noise levels\n",
    "    # timestep is indices of noise levels for each sample is x\n",
    "    # context_embedding is batched tensor with\n",
    "    def forward(self,x, timestep : torch.LongTensor):\n",
    "        \"\"\"\n",
    "        x: [batch,channels,width,height]\n",
    "        \n",
    "        timestep: [batch] tensor of type long\n",
    "        \"\"\"\n",
    "        d1 = self.down1(x,timestep)\n",
    "        \n",
    "        d2 = self.down2(d1,timestep)\n",
    "        d3 = self.down3(d2,timestep)\n",
    "        d4 = self.down4(d3,timestep)\n",
    "        \n",
    "        u1 = self.up1(d4,timestep)\n",
    "        u1 = self.merge_up1_down3(torch.concat([u1,d3],1))\n",
    "        \n",
    "        u2 = self.up2(u1,timestep)\n",
    "        u2 = self.merge_up2_down2(torch.concat([u2,d2],1))\n",
    "        \n",
    "        u3 = self.up3(u2,timestep)\n",
    "        u3 = self.merge_up3_down1(torch.concat([u3,d1],1))\n",
    "        \n",
    "        u4 = self.up4(u3,timestep)\n",
    "        \n",
    "        return self.final(u4)\n",
    "    \n",
    "in_channels = 3\n",
    "# show example how to use it\n",
    "s = torch.randn((2,in_channels,256,256)) # input noised images\n",
    "timestep = torch.LongTensor([3,2]) #timestep indices\n",
    "diff = Diffusion(in_channels,max_timesteps=512)\n",
    "denoised = sample(diff,(1,in_channels,32,32),128)\n",
    "pred_noise = diff(s,timestep)"
   ]
  },
  {
   "cell_type": "code",
   "execution_count": 4,
   "metadata": {},
   "outputs": [
    {
     "data": {
      "text/plain": [
       "(tensor([0.5042, 0.5042, 0.5042]), tensor([0.2253, 0.2253, 0.2253]))"
      ]
     },
     "execution_count": 4,
     "metadata": {},
     "output_type": "execute_result"
    }
   ],
   "source": [
    "# compute dataset images mean and std, so we can better rescale inputs to diffusion model\n",
    "means = []\n",
    "stds = []\n",
    "for b in train_loader:\n",
    "    im = b[0]\n",
    "    dims = [-1,-2]\n",
    "    mean = im.mean(dims,keepdim=True).mean(0)\n",
    "    std = im.std(dims,keepdim=True).mean(0)\n",
    "    means.append(mean)\n",
    "    stds.append(std)\n",
    "\n",
    "images_mean,images_std = torch.stack(means).mean(0),torch.stack(stds).mean(0)\n",
    "images_mean.flatten(),images_std.flatten()"
   ]
  },
  {
   "cell_type": "code",
   "execution_count": 5,
   "metadata": {},
   "outputs": [
    {
     "name": "stdout",
     "output_type": "stream",
     "text": [
      "Total model parameters 50.65 M\n",
      "trying to capture model architecture...\n",
      "Saved model architecture at runs/diffusion/model.pt. You can torch.load it and update it's weights with checkpoint\n",
      "\n",
      "Epoch 1/100\n"
     ]
    },
    {
     "name": "stderr",
     "output_type": "stream",
     "text": [
      "train 0: 100%|██████████| 75/75 [00:45<00:00,  1.65it/s, loss=0.0470, r2=0.9532]\n"
     ]
    },
    {
     "name": "stdout",
     "output_type": "stream",
     "text": [
      "+------+---------+---------+\n",
      "|      |  Train  |  Test   |\n",
      "+------+---------+---------+\n",
      "| loss | 0.30173 | 0.19951 |\n",
      "|  r2  | 0.6984  | 0.8005  |\n",
      "+------+---------+---------+\n",
      "saved epoch-1\n",
      "\n",
      "Epoch 2/100\n"
     ]
    },
    {
     "name": "stderr",
     "output_type": "stream",
     "text": [
      "train 0:   1%|▏         | 1/75 [00:35<44:22, 35.98s/it, loss=0.1884, r2=0.8113]W0616 01:28:08.258000 3801162 torch/_dynamo/convert_frame.py:906] [6/8] torch._dynamo hit config.cache_size_limit (8)\n",
      "W0616 01:28:08.258000 3801162 torch/_dynamo/convert_frame.py:906] [6/8]    function: 'forward' (/home/vlad/Cardio/tmp/Image-Diffusion/kemsekov_torch/residual.py:30)\n",
      "W0616 01:28:08.258000 3801162 torch/_dynamo/convert_frame.py:906] [6/8]    last reason: 6/0: tensor 'L['x']' dtype mismatch. expected BFloat16, actual Float\n",
      "W0616 01:28:08.258000 3801162 torch/_dynamo/convert_frame.py:906] [6/8] To log all recompilation reasons, use TORCH_LOGS=\"recompiles\".\n",
      "W0616 01:28:08.258000 3801162 torch/_dynamo/convert_frame.py:906] [6/8] To diagnose recompilation issues, see https://pytorch.org/docs/main/torch.compiler_troubleshooting.html.\n",
      "train 0: 100%|██████████| 75/75 [00:53<00:00,  1.41it/s, loss=0.0895, r2=0.9106]\n",
      "W0616 01:28:24.413000 3801162 torch/_dynamo/convert_frame.py:906] [4/8] torch._dynamo hit config.cache_size_limit (8)\n",
      "W0616 01:28:24.413000 3801162 torch/_dynamo/convert_frame.py:906] [4/8]    function: 'forward' (/tmp/ipykernel_3801162/1300417599.py:80)\n",
      "W0616 01:28:24.413000 3801162 torch/_dynamo/convert_frame.py:906] [4/8]    last reason: 4/0: tensor 'L['x']' size mismatch at index 0. expected 29, actual 32\n",
      "W0616 01:28:24.413000 3801162 torch/_dynamo/convert_frame.py:906] [4/8] To log all recompilation reasons, use TORCH_LOGS=\"recompiles\".\n",
      "W0616 01:28:24.413000 3801162 torch/_dynamo/convert_frame.py:906] [4/8] To diagnose recompilation issues, see https://pytorch.org/docs/main/torch.compiler_troubleshooting.html.\n"
     ]
    },
    {
     "name": "stdout",
     "output_type": "stream",
     "text": [
      "+------+---------+---------+\n",
      "|      |  Train  |  Test   |\n",
      "+------+---------+---------+\n",
      "| loss | 0.14589 | 0.10609 |\n",
      "|  r2  | 0.8541  | 0.8940  |\n",
      "+------+---------+---------+\n",
      "saved epoch-2\n",
      "\n",
      "Epoch 3/100\n"
     ]
    },
    {
     "name": "stderr",
     "output_type": "stream",
     "text": [
      "train 0: 100%|██████████| 75/75 [00:12<00:00,  5.77it/s, loss=0.0865, r2=0.9136]\n"
     ]
    },
    {
     "name": "stdout",
     "output_type": "stream",
     "text": [
      "+------+---------+---------+\n",
      "|      |  Train  |  Test   |\n",
      "+------+---------+---------+\n",
      "| loss | 0.08594 | 0.07953 |\n",
      "|  r2  | 0.9141  | 0.9204  |\n",
      "+------+---------+---------+\n",
      "saved epoch-3\n",
      "\n",
      "Epoch 4/100\n"
     ]
    },
    {
     "name": "stderr",
     "output_type": "stream",
     "text": [
      "train 0: 100%|██████████| 75/75 [00:13<00:00,  5.76it/s, loss=0.0585, r2=0.9413]\n"
     ]
    },
    {
     "name": "stdout",
     "output_type": "stream",
     "text": [
      "+------+---------+---------+\n",
      "|      |  Train  |  Test   |\n",
      "+------+---------+---------+\n",
      "| loss | 0.06682 | 0.06497 |\n",
      "|  r2  | 0.9332  | 0.9350  |\n",
      "+------+---------+---------+\n",
      "saved epoch-4\n",
      "\n",
      "Epoch 5/100\n"
     ]
    },
    {
     "name": "stderr",
     "output_type": "stream",
     "text": [
      "train 0: 100%|██████████| 75/75 [00:13<00:00,  5.76it/s, loss=0.0570, r2=0.9431]\n"
     ]
    },
    {
     "name": "stdout",
     "output_type": "stream",
     "text": [
      "+------+--------+---------+\n",
      "|      | Train  |  Test   |\n",
      "+------+--------+---------+\n",
      "| loss | 0.0575 | 0.05836 |\n",
      "|  r2  | 0.9425 | 0.9416  |\n",
      "+------+--------+---------+\n",
      "saved epoch-5\n",
      "\n",
      "Epoch 6/100\n"
     ]
    },
    {
     "name": "stderr",
     "output_type": "stream",
     "text": [
      "train 0: 100%|██████████| 75/75 [00:13<00:00,  5.77it/s, loss=0.0536, r2=0.9462]\n"
     ]
    },
    {
     "name": "stdout",
     "output_type": "stream",
     "text": [
      "+------+---------+---------+\n",
      "|      |  Train  |  Test   |\n",
      "+------+---------+---------+\n",
      "| loss | 0.05154 | 0.06567 |\n",
      "|  r2  | 0.9485  | 0.9344  |\n",
      "+------+---------+---------+\n",
      "\n",
      "Epoch 7/100\n"
     ]
    },
    {
     "name": "stderr",
     "output_type": "stream",
     "text": [
      "train 0: 100%|██████████| 75/75 [00:13<00:00,  5.77it/s, loss=0.0464, r2=0.9537]\n"
     ]
    },
    {
     "name": "stdout",
     "output_type": "stream",
     "text": [
      "+------+---------+---------+\n",
      "|      |  Train  |  Test   |\n",
      "+------+---------+---------+\n",
      "| loss | 0.05417 | 0.05279 |\n",
      "|  r2  | 0.9458  | 0.9472  |\n",
      "+------+---------+---------+\n",
      "saved epoch-7\n",
      "\n",
      "Epoch 8/100\n"
     ]
    },
    {
     "name": "stderr",
     "output_type": "stream",
     "text": [
      "train 0: 100%|██████████| 75/75 [00:13<00:00,  5.76it/s, loss=0.0297, r2=0.9702]\n"
     ]
    },
    {
     "name": "stdout",
     "output_type": "stream",
     "text": [
      "+------+---------+---------+\n",
      "|      |  Train  |  Test   |\n",
      "+------+---------+---------+\n",
      "| loss | 0.05311 | 0.04759 |\n",
      "|  r2  | 0.9469  | 0.9524  |\n",
      "+------+---------+---------+\n",
      "saved epoch-8\n",
      "\n",
      "Epoch 9/100\n"
     ]
    },
    {
     "name": "stderr",
     "output_type": "stream",
     "text": [
      "train 0: 100%|██████████| 75/75 [00:13<00:00,  5.76it/s, loss=0.1031, r2=0.8972]\n"
     ]
    },
    {
     "name": "stdout",
     "output_type": "stream",
     "text": [
      "+------+---------+---------+\n",
      "|      |  Train  |  Test   |\n",
      "+------+---------+---------+\n",
      "| loss | 0.04967 | 0.04747 |\n",
      "|  r2  | 0.9504  | 0.9526  |\n",
      "+------+---------+---------+\n",
      "saved epoch-9\n",
      "\n",
      "Epoch 10/100\n"
     ]
    },
    {
     "name": "stderr",
     "output_type": "stream",
     "text": [
      "train 0: 100%|██████████| 75/75 [00:13<00:00,  5.76it/s, loss=0.0250, r2=0.9750]\n"
     ]
    },
    {
     "name": "stdout",
     "output_type": "stream",
     "text": [
      "+------+---------+---------+\n",
      "|      |  Train  |  Test   |\n",
      "+------+---------+---------+\n",
      "| loss | 0.04769 | 0.05259 |\n",
      "|  r2  | 0.9523  | 0.9474  |\n",
      "+------+---------+---------+\n",
      "\n",
      "Epoch 11/100\n"
     ]
    },
    {
     "name": "stderr",
     "output_type": "stream",
     "text": [
      "train 0: 100%|██████████| 75/75 [00:13<00:00,  5.74it/s, loss=0.0805, r2=0.9196]\n"
     ]
    },
    {
     "name": "stdout",
     "output_type": "stream",
     "text": [
      "+------+---------+---------+\n",
      "|      |  Train  |  Test   |\n",
      "+------+---------+---------+\n",
      "| loss | 0.04261 | 0.03099 |\n",
      "|  r2  | 0.9574  | 0.9690  |\n",
      "+------+---------+---------+\n",
      "saved epoch-11\n",
      "\n",
      "Epoch 12/100\n"
     ]
    },
    {
     "name": "stderr",
     "output_type": "stream",
     "text": [
      "train 0: 100%|██████████| 75/75 [00:13<00:00,  5.48it/s, loss=0.0356, r2=0.9644]\n"
     ]
    },
    {
     "name": "stdout",
     "output_type": "stream",
     "text": [
      "+------+---------+---------+\n",
      "|      |  Train  |  Test   |\n",
      "+------+---------+---------+\n",
      "| loss | 0.04899 | 0.03169 |\n",
      "|  r2  | 0.9510  | 0.9683  |\n",
      "+------+---------+---------+\n",
      "\n",
      "Epoch 13/100\n"
     ]
    },
    {
     "name": "stderr",
     "output_type": "stream",
     "text": [
      "train 0: 100%|██████████| 75/75 [00:13<00:00,  5.75it/s, loss=0.0349, r2=0.9652]\n"
     ]
    },
    {
     "name": "stdout",
     "output_type": "stream",
     "text": [
      "+------+---------+--------+\n",
      "|      |  Train  |  Test  |\n",
      "+------+---------+--------+\n",
      "| loss | 0.04157 | 0.0463 |\n",
      "|  r2  | 0.9584  | 0.9537 |\n",
      "+------+---------+--------+\n",
      "\n",
      "Epoch 14/100\n"
     ]
    },
    {
     "name": "stderr",
     "output_type": "stream",
     "text": [
      "train 0: 100%|██████████| 75/75 [00:13<00:00,  5.73it/s, loss=0.0217, r2=0.9782]\n"
     ]
    },
    {
     "name": "stdout",
     "output_type": "stream",
     "text": [
      "+------+---------+---------+\n",
      "|      |  Train  |  Test   |\n",
      "+------+---------+---------+\n",
      "| loss | 0.04049 | 0.05221 |\n",
      "|  r2  | 0.9595  | 0.9478  |\n",
      "+------+---------+---------+\n",
      "\n",
      "Epoch 15/100\n"
     ]
    },
    {
     "name": "stderr",
     "output_type": "stream",
     "text": [
      "train 0: 100%|██████████| 75/75 [00:13<00:00,  5.74it/s, loss=0.0340, r2=0.9660]\n"
     ]
    },
    {
     "name": "stdout",
     "output_type": "stream",
     "text": [
      "+------+---------+---------+\n",
      "|      |  Train  |  Test   |\n",
      "+------+---------+---------+\n",
      "| loss | 0.04238 | 0.04644 |\n",
      "|  r2  | 0.9576  | 0.9536  |\n",
      "+------+---------+---------+\n",
      "\n",
      "Epoch 16/100\n"
     ]
    },
    {
     "name": "stderr",
     "output_type": "stream",
     "text": [
      "train 0: 100%|██████████| 75/75 [00:13<00:00,  5.76it/s, loss=0.1684, r2=0.8317]\n"
     ]
    },
    {
     "name": "stdout",
     "output_type": "stream",
     "text": [
      "+------+---------+---------+\n",
      "|      |  Train  |  Test   |\n",
      "+------+---------+---------+\n",
      "| loss | 0.04442 | 0.05239 |\n",
      "|  r2  | 0.9556  | 0.9476  |\n",
      "+------+---------+---------+\n",
      "\n",
      "Epoch 17/100\n"
     ]
    },
    {
     "name": "stderr",
     "output_type": "stream",
     "text": [
      "train 0: 100%|██████████| 75/75 [00:13<00:00,  5.74it/s, loss=0.0177, r2=0.9823]\n"
     ]
    },
    {
     "name": "stdout",
     "output_type": "stream",
     "text": [
      "+------+---------+---------+\n",
      "|      |  Train  |  Test   |\n",
      "+------+---------+---------+\n",
      "| loss | 0.04022 | 0.04964 |\n",
      "|  r2  | 0.9598  | 0.9504  |\n",
      "+------+---------+---------+\n",
      "\n",
      "Epoch 18/100\n"
     ]
    },
    {
     "name": "stderr",
     "output_type": "stream",
     "text": [
      "train 0: 100%|██████████| 75/75 [00:13<00:00,  5.74it/s, loss=0.0733, r2=0.9268]\n"
     ]
    },
    {
     "name": "stdout",
     "output_type": "stream",
     "text": [
      "+------+---------+--------+\n",
      "|      |  Train  |  Test  |\n",
      "+------+---------+--------+\n",
      "| loss | 0.03947 | 0.0502 |\n",
      "|  r2  | 0.9605  | 0.9498 |\n",
      "+------+---------+--------+\n",
      "\n",
      "Epoch 19/100\n"
     ]
    },
    {
     "name": "stderr",
     "output_type": "stream",
     "text": [
      "train 0: 100%|██████████| 75/75 [00:13<00:00,  5.75it/s, loss=0.0563, r2=0.9435]\n"
     ]
    },
    {
     "name": "stdout",
     "output_type": "stream",
     "text": [
      "+------+--------+---------+\n",
      "|      | Train  |  Test   |\n",
      "+------+--------+---------+\n",
      "| loss | 0.0397 | 0.04854 |\n",
      "|  r2  | 0.9603 | 0.9515  |\n",
      "+------+--------+---------+\n",
      "\n",
      "Epoch 20/100\n"
     ]
    },
    {
     "name": "stderr",
     "output_type": "stream",
     "text": [
      "train 0: 100%|██████████| 75/75 [00:13<00:00,  5.76it/s, loss=0.0283, r2=0.9717]\n"
     ]
    },
    {
     "name": "stdout",
     "output_type": "stream",
     "text": [
      "+------+---------+---------+\n",
      "|      |  Train  |  Test   |\n",
      "+------+---------+---------+\n",
      "| loss | 0.04198 | 0.03427 |\n",
      "|  r2  | 0.9580  | 0.9658  |\n",
      "+------+---------+---------+\n",
      "\n",
      "Epoch 21/100\n"
     ]
    },
    {
     "name": "stderr",
     "output_type": "stream",
     "text": [
      "train 0: 100%|██████████| 75/75 [00:13<00:00,  5.75it/s, loss=0.0404, r2=0.9595]\n"
     ]
    },
    {
     "name": "stdout",
     "output_type": "stream",
     "text": [
      "+------+---------+---------+\n",
      "|      |  Train  |  Test   |\n",
      "+------+---------+---------+\n",
      "| loss | 0.04148 | 0.04539 |\n",
      "|  r2  | 0.9585  | 0.9546  |\n",
      "+------+---------+---------+\n",
      "\n",
      "Epoch 22/100\n"
     ]
    },
    {
     "name": "stderr",
     "output_type": "stream",
     "text": [
      "train 0: 100%|██████████| 75/75 [00:13<00:00,  5.74it/s, loss=0.0259, r2=0.9742]\n"
     ]
    },
    {
     "name": "stdout",
     "output_type": "stream",
     "text": [
      "+------+---------+---------+\n",
      "|      |  Train  |  Test   |\n",
      "+------+---------+---------+\n",
      "| loss | 0.03936 | 0.04574 |\n",
      "|  r2  | 0.9606  | 0.9542  |\n",
      "+------+---------+---------+\n",
      "\n",
      "Epoch 23/100\n"
     ]
    },
    {
     "name": "stderr",
     "output_type": "stream",
     "text": [
      "train 0: 100%|██████████| 75/75 [00:13<00:00,  5.76it/s, loss=0.0193, r2=0.9807]\n"
     ]
    },
    {
     "name": "stdout",
     "output_type": "stream",
     "text": [
      "+------+---------+---------+\n",
      "|      |  Train  |  Test   |\n",
      "+------+---------+---------+\n",
      "| loss | 0.03895 | 0.04477 |\n",
      "|  r2  | 0.9610  | 0.9552  |\n",
      "+------+---------+---------+\n",
      "\n",
      "Epoch 24/100\n"
     ]
    },
    {
     "name": "stderr",
     "output_type": "stream",
     "text": [
      "train 0: 100%|██████████| 75/75 [00:13<00:00,  5.74it/s, loss=0.3407, r2=0.6598]\n"
     ]
    },
    {
     "name": "stdout",
     "output_type": "stream",
     "text": [
      "+------+---------+---------+\n",
      "|      |  Train  |  Test   |\n",
      "+------+---------+---------+\n",
      "| loss | 0.04413 | 0.03915 |\n",
      "|  r2  | 0.9559  | 0.9609  |\n",
      "+------+---------+---------+\n",
      "\n",
      "Epoch 25/100\n"
     ]
    },
    {
     "name": "stderr",
     "output_type": "stream",
     "text": [
      "train 0: 100%|██████████| 75/75 [00:13<00:00,  5.74it/s, loss=0.0799, r2=0.9202]\n"
     ]
    },
    {
     "name": "stdout",
     "output_type": "stream",
     "text": [
      "+------+---------+---------+\n",
      "|      |  Train  |  Test   |\n",
      "+------+---------+---------+\n",
      "| loss | 0.04075 | 0.04039 |\n",
      "|  r2  | 0.9592  | 0.9596  |\n",
      "+------+---------+---------+\n",
      "\n",
      "Epoch 26/100\n"
     ]
    },
    {
     "name": "stderr",
     "output_type": "stream",
     "text": [
      "train 0: 100%|██████████| 75/75 [00:13<00:00,  5.76it/s, loss=0.0202, r2=0.9797]\n"
     ]
    },
    {
     "name": "stdout",
     "output_type": "stream",
     "text": [
      "+------+---------+---------+\n",
      "|      |  Train  |  Test   |\n",
      "+------+---------+---------+\n",
      "| loss | 0.03595 | 0.03973 |\n",
      "|  r2  | 0.9640  | 0.9603  |\n",
      "+------+---------+---------+\n",
      "\n",
      "Epoch 27/100\n"
     ]
    },
    {
     "name": "stderr",
     "output_type": "stream",
     "text": [
      "train 0: 100%|██████████| 75/75 [00:13<00:00,  5.74it/s, loss=0.0372, r2=0.9629]\n"
     ]
    },
    {
     "name": "stdout",
     "output_type": "stream",
     "text": [
      "+------+---------+---------+\n",
      "|      |  Train  |  Test   |\n",
      "+------+---------+---------+\n",
      "| loss | 0.03779 | 0.04248 |\n",
      "|  r2  | 0.9622  | 0.9575  |\n",
      "+------+---------+---------+\n",
      "\n",
      "Epoch 28/100\n"
     ]
    },
    {
     "name": "stderr",
     "output_type": "stream",
     "text": [
      "train 0: 100%|██████████| 75/75 [00:13<00:00,  5.76it/s, loss=0.0500, r2=0.9501]\n"
     ]
    },
    {
     "name": "stdout",
     "output_type": "stream",
     "text": [
      "+------+---------+---------+\n",
      "|      |  Train  |  Test   |\n",
      "+------+---------+---------+\n",
      "| loss | 0.03649 | 0.04833 |\n",
      "|  r2  | 0.9635  | 0.9517  |\n",
      "+------+---------+---------+\n",
      "\n",
      "Epoch 29/100\n"
     ]
    },
    {
     "name": "stderr",
     "output_type": "stream",
     "text": [
      "train 0: 100%|██████████| 75/75 [00:13<00:00,  5.74it/s, loss=0.0191, r2=0.9809]\n"
     ]
    },
    {
     "name": "stdout",
     "output_type": "stream",
     "text": [
      "+------+---------+---------+\n",
      "|      |  Train  |  Test   |\n",
      "+------+---------+---------+\n",
      "| loss | 0.03681 | 0.04257 |\n",
      "|  r2  | 0.9632  | 0.9574  |\n",
      "+------+---------+---------+\n",
      "\n",
      "Epoch 30/100\n"
     ]
    },
    {
     "name": "stderr",
     "output_type": "stream",
     "text": [
      "train 0: 100%|██████████| 75/75 [00:13<00:00,  5.75it/s, loss=0.0273, r2=0.9728]\n"
     ]
    },
    {
     "name": "stdout",
     "output_type": "stream",
     "text": [
      "+------+---------+---------+\n",
      "|      |  Train  |  Test   |\n",
      "+------+---------+---------+\n",
      "| loss | 0.03591 | 0.02482 |\n",
      "|  r2  | 0.9641  | 0.9752  |\n",
      "+------+---------+---------+\n",
      "saved epoch-30\n",
      "\n",
      "Epoch 31/100\n"
     ]
    },
    {
     "name": "stderr",
     "output_type": "stream",
     "text": [
      "train 0: 100%|██████████| 75/75 [00:13<00:00,  5.50it/s, loss=0.0197, r2=0.9803]\n"
     ]
    },
    {
     "name": "stdout",
     "output_type": "stream",
     "text": [
      "+------+---------+---------+\n",
      "|      |  Train  |  Test   |\n",
      "+------+---------+---------+\n",
      "| loss | 0.03922 | 0.02351 |\n",
      "|  r2  | 0.9608  | 0.9765  |\n",
      "+------+---------+---------+\n",
      "saved epoch-31\n",
      "\n",
      "Epoch 32/100\n"
     ]
    },
    {
     "name": "stderr",
     "output_type": "stream",
     "text": [
      "train 0: 100%|██████████| 75/75 [00:13<00:00,  5.73it/s, loss=0.0371, r2=0.9628]\n"
     ]
    },
    {
     "name": "stdout",
     "output_type": "stream",
     "text": [
      "+------+---------+---------+\n",
      "|      |  Train  |  Test   |\n",
      "+------+---------+---------+\n",
      "| loss | 0.03845 | 0.03786 |\n",
      "|  r2  | 0.9616  | 0.9621  |\n",
      "+------+---------+---------+\n",
      "\n",
      "Epoch 33/100\n"
     ]
    },
    {
     "name": "stderr",
     "output_type": "stream",
     "text": [
      "train 0: 100%|██████████| 75/75 [00:13<00:00,  5.73it/s, loss=0.0192, r2=0.9807]\n"
     ]
    },
    {
     "name": "stdout",
     "output_type": "stream",
     "text": [
      "+------+---------+---------+\n",
      "|      |  Train  |  Test   |\n",
      "+------+---------+---------+\n",
      "| loss | 0.03759 | 0.04084 |\n",
      "|  r2  | 0.9624  | 0.9592  |\n",
      "+------+---------+---------+\n",
      "\n",
      "Epoch 34/100\n"
     ]
    },
    {
     "name": "stderr",
     "output_type": "stream",
     "text": [
      "train 0: 100%|██████████| 75/75 [00:13<00:00,  5.76it/s, loss=0.0548, r2=0.9452]\n"
     ]
    },
    {
     "name": "stdout",
     "output_type": "stream",
     "text": [
      "+------+---------+---------+\n",
      "|      |  Train  |  Test   |\n",
      "+------+---------+---------+\n",
      "| loss | 0.03666 | 0.06137 |\n",
      "|  r2  | 0.9633  | 0.9386  |\n",
      "+------+---------+---------+\n",
      "\n",
      "Epoch 35/100\n"
     ]
    },
    {
     "name": "stderr",
     "output_type": "stream",
     "text": [
      "train 0: 100%|██████████| 75/75 [00:13<00:00,  5.73it/s, loss=0.0438, r2=0.9561]\n"
     ]
    },
    {
     "name": "stdout",
     "output_type": "stream",
     "text": [
      "+------+---------+---------+\n",
      "|      |  Train  |  Test   |\n",
      "+------+---------+---------+\n",
      "| loss | 0.03708 | 0.04967 |\n",
      "|  r2  | 0.9629  | 0.9504  |\n",
      "+------+---------+---------+\n",
      "\n",
      "Epoch 36/100\n"
     ]
    },
    {
     "name": "stderr",
     "output_type": "stream",
     "text": [
      "train 0: 100%|██████████| 75/75 [00:13<00:00,  5.75it/s, loss=0.0206, r2=0.9794]\n"
     ]
    },
    {
     "name": "stdout",
     "output_type": "stream",
     "text": [
      "+------+---------+---------+\n",
      "|      |  Train  |  Test   |\n",
      "+------+---------+---------+\n",
      "| loss | 0.03486 | 0.06549 |\n",
      "|  r2  | 0.9651  | 0.9345  |\n",
      "+------+---------+---------+\n",
      "\n",
      "Epoch 37/100\n"
     ]
    },
    {
     "name": "stderr",
     "output_type": "stream",
     "text": [
      "train 0: 100%|██████████| 75/75 [00:13<00:00,  5.74it/s, loss=0.0242, r2=0.9758]\n"
     ]
    },
    {
     "name": "stdout",
     "output_type": "stream",
     "text": [
      "+------+---------+---------+\n",
      "|      |  Train  |  Test   |\n",
      "+------+---------+---------+\n",
      "| loss | 0.03437 | 0.02305 |\n",
      "|  r2  | 0.9656  | 0.9769  |\n",
      "+------+---------+---------+\n",
      "saved epoch-37\n",
      "\n",
      "Epoch 38/100\n"
     ]
    },
    {
     "name": "stderr",
     "output_type": "stream",
     "text": [
      "train 0: 100%|██████████| 75/75 [00:13<00:00,  5.75it/s, loss=0.0207, r2=0.9794]\n"
     ]
    },
    {
     "name": "stdout",
     "output_type": "stream",
     "text": [
      "+------+---------+---------+\n",
      "|      |  Train  |  Test   |\n",
      "+------+---------+---------+\n",
      "| loss | 0.03699 | 0.03197 |\n",
      "|  r2  | 0.9630  | 0.9680  |\n",
      "+------+---------+---------+\n",
      "\n",
      "Epoch 39/100\n"
     ]
    },
    {
     "name": "stderr",
     "output_type": "stream",
     "text": [
      "train 0: 100%|██████████| 75/75 [00:13<00:00,  5.75it/s, loss=0.0150, r2=0.9850]\n"
     ]
    },
    {
     "name": "stdout",
     "output_type": "stream",
     "text": [
      "+------+--------+--------+\n",
      "|      | Train  |  Test  |\n",
      "+------+--------+--------+\n",
      "| loss | 0.0332 | 0.0554 |\n",
      "|  r2  | 0.9668 | 0.9446 |\n",
      "+------+--------+--------+\n",
      "\n",
      "Epoch 40/100\n"
     ]
    },
    {
     "name": "stderr",
     "output_type": "stream",
     "text": [
      "train 0: 100%|██████████| 75/75 [00:13<00:00,  5.74it/s, loss=0.0484, r2=0.9517]\n"
     ]
    },
    {
     "name": "stdout",
     "output_type": "stream",
     "text": [
      "+------+---------+---------+\n",
      "|      |  Train  |  Test   |\n",
      "+------+---------+---------+\n",
      "| loss | 0.03916 | 0.04973 |\n",
      "|  r2  | 0.9608  | 0.9503  |\n",
      "+------+---------+---------+\n",
      "\n",
      "Epoch 41/100\n"
     ]
    },
    {
     "name": "stderr",
     "output_type": "stream",
     "text": [
      "train 0: 100%|██████████| 75/75 [00:13<00:00,  5.74it/s, loss=0.0446, r2=0.9556]\n"
     ]
    },
    {
     "name": "stdout",
     "output_type": "stream",
     "text": [
      "+------+---------+---------+\n",
      "|      |  Train  |  Test   |\n",
      "+------+---------+---------+\n",
      "| loss | 0.03614 | 0.03768 |\n",
      "|  r2  | 0.9639  | 0.9623  |\n",
      "+------+---------+---------+\n",
      "\n",
      "Epoch 42/100\n"
     ]
    },
    {
     "name": "stderr",
     "output_type": "stream",
     "text": [
      "train 0: 100%|██████████| 75/75 [00:13<00:00,  5.74it/s, loss=0.0322, r2=0.9677]\n"
     ]
    },
    {
     "name": "stdout",
     "output_type": "stream",
     "text": [
      "+------+---------+---------+\n",
      "|      |  Train  |  Test   |\n",
      "+------+---------+---------+\n",
      "| loss | 0.03325 | 0.03699 |\n",
      "|  r2  | 0.9668  | 0.9630  |\n",
      "+------+---------+---------+\n",
      "\n",
      "Epoch 43/100\n"
     ]
    },
    {
     "name": "stderr",
     "output_type": "stream",
     "text": [
      "train 0: 100%|██████████| 75/75 [00:13<00:00,  5.75it/s, loss=0.0317, r2=0.9682]\n"
     ]
    },
    {
     "name": "stdout",
     "output_type": "stream",
     "text": [
      "+------+---------+---------+\n",
      "|      |  Train  |  Test   |\n",
      "+------+---------+---------+\n",
      "| loss | 0.03784 | 0.03085 |\n",
      "|  r2  | 0.9622  | 0.9691  |\n",
      "+------+---------+---------+\n",
      "\n",
      "Epoch 44/100\n"
     ]
    },
    {
     "name": "stderr",
     "output_type": "stream",
     "text": [
      "train 0: 100%|██████████| 75/75 [00:13<00:00,  5.74it/s, loss=0.1529, r2=0.8469]\n"
     ]
    },
    {
     "name": "stdout",
     "output_type": "stream",
     "text": [
      "+------+---------+---------+\n",
      "|      |  Train  |  Test   |\n",
      "+------+---------+---------+\n",
      "| loss | 0.03596 | 0.05035 |\n",
      "|  r2  | 0.9640  | 0.9496  |\n",
      "+------+---------+---------+\n",
      "\n",
      "Epoch 45/100\n"
     ]
    },
    {
     "name": "stderr",
     "output_type": "stream",
     "text": [
      "train 0: 100%|██████████| 75/75 [00:13<00:00,  5.75it/s, loss=0.0190, r2=0.9810]\n"
     ]
    },
    {
     "name": "stdout",
     "output_type": "stream",
     "text": [
      "+------+--------+--------+\n",
      "|      | Train  |  Test  |\n",
      "+------+--------+--------+\n",
      "| loss | 0.0331 | 0.0237 |\n",
      "|  r2  | 0.9669 | 0.9763 |\n",
      "+------+--------+--------+\n",
      "\n",
      "Epoch 46/100\n"
     ]
    },
    {
     "name": "stderr",
     "output_type": "stream",
     "text": [
      "train 0: 100%|██████████| 75/75 [00:13<00:00,  5.75it/s, loss=0.0184, r2=0.9815]\n"
     ]
    },
    {
     "name": "stdout",
     "output_type": "stream",
     "text": [
      "+------+---------+---------+\n",
      "|      |  Train  |  Test   |\n",
      "+------+---------+---------+\n",
      "| loss | 0.03533 | 0.03593 |\n",
      "|  r2  | 0.9647  | 0.9641  |\n",
      "+------+---------+---------+\n",
      "\n",
      "Epoch 47/100\n"
     ]
    },
    {
     "name": "stderr",
     "output_type": "stream",
     "text": [
      "train 0: 100%|██████████| 75/75 [00:13<00:00,  5.74it/s, loss=0.0152, r2=0.9847]\n"
     ]
    },
    {
     "name": "stdout",
     "output_type": "stream",
     "text": [
      "+------+---------+---------+\n",
      "|      |  Train  |  Test   |\n",
      "+------+---------+---------+\n",
      "| loss | 0.03198 | 0.04327 |\n",
      "|  r2  | 0.9680  | 0.9568  |\n",
      "+------+---------+---------+\n",
      "\n",
      "Epoch 48/100\n"
     ]
    },
    {
     "name": "stderr",
     "output_type": "stream",
     "text": [
      "train 0: 100%|██████████| 75/75 [00:13<00:00,  5.75it/s, loss=0.1097, r2=0.8900]\n"
     ]
    },
    {
     "name": "stdout",
     "output_type": "stream",
     "text": [
      "+------+---------+---------+\n",
      "|      |  Train  |  Test   |\n",
      "+------+---------+---------+\n",
      "| loss | 0.03695 | 0.02669 |\n",
      "|  r2  | 0.9630  | 0.9733  |\n",
      "+------+---------+---------+\n",
      "\n",
      "Epoch 49/100\n"
     ]
    },
    {
     "name": "stderr",
     "output_type": "stream",
     "text": [
      "train 0: 100%|██████████| 75/75 [00:13<00:00,  5.73it/s, loss=0.0219, r2=0.9781]\n"
     ]
    },
    {
     "name": "stdout",
     "output_type": "stream",
     "text": [
      "+------+---------+---------+\n",
      "|      |  Train  |  Test   |\n",
      "+------+---------+---------+\n",
      "| loss | 0.03476 | 0.03619 |\n",
      "|  r2  | 0.9652  | 0.9638  |\n",
      "+------+---------+---------+\n",
      "\n",
      "Epoch 50/100\n"
     ]
    },
    {
     "name": "stderr",
     "output_type": "stream",
     "text": [
      "train 0: 100%|██████████| 75/75 [00:13<00:00,  5.74it/s, loss=0.0224, r2=0.9775]\n"
     ]
    },
    {
     "name": "stdout",
     "output_type": "stream",
     "text": [
      "+------+---------+---------+\n",
      "|      |  Train  |  Test   |\n",
      "+------+---------+---------+\n",
      "| loss | 0.03045 | 0.03596 |\n",
      "|  r2  | 0.9695  | 0.9641  |\n",
      "+------+---------+---------+\n",
      "\n",
      "Epoch 51/100\n"
     ]
    },
    {
     "name": "stderr",
     "output_type": "stream",
     "text": [
      "train 0: 100%|██████████| 75/75 [00:13<00:00,  5.73it/s, loss=0.0553, r2=0.9446]\n"
     ]
    },
    {
     "name": "stdout",
     "output_type": "stream",
     "text": [
      "+------+---------+---------+\n",
      "|      |  Train  |  Test   |\n",
      "+------+---------+---------+\n",
      "| loss | 0.03292 | 0.03016 |\n",
      "|  r2  | 0.9671  | 0.9698  |\n",
      "+------+---------+---------+\n",
      "\n",
      "Epoch 52/100\n"
     ]
    },
    {
     "name": "stderr",
     "output_type": "stream",
     "text": [
      "train 0: 100%|██████████| 75/75 [00:13<00:00,  5.46it/s, loss=0.0346, r2=0.9655]\n"
     ]
    },
    {
     "name": "stdout",
     "output_type": "stream",
     "text": [
      "+------+---------+---------+\n",
      "|      |  Train  |  Test   |\n",
      "+------+---------+---------+\n",
      "| loss | 0.03688 | 0.03422 |\n",
      "|  r2  | 0.9631  | 0.9658  |\n",
      "+------+---------+---------+\n",
      "\n",
      "Epoch 53/100\n"
     ]
    },
    {
     "name": "stderr",
     "output_type": "stream",
     "text": [
      "train 0: 100%|██████████| 75/75 [00:13<00:00,  5.74it/s, loss=0.0222, r2=0.9779]\n"
     ]
    },
    {
     "name": "stdout",
     "output_type": "stream",
     "text": [
      "+------+---------+---------+\n",
      "|      |  Train  |  Test   |\n",
      "+------+---------+---------+\n",
      "| loss | 0.03608 | 0.04095 |\n",
      "|  r2  | 0.9639  | 0.9591  |\n",
      "+------+---------+---------+\n",
      "\n",
      "Epoch 54/100\n"
     ]
    },
    {
     "name": "stderr",
     "output_type": "stream",
     "text": [
      "train 0: 100%|██████████| 75/75 [00:13<00:00,  5.73it/s, loss=0.0213, r2=0.9788]\n"
     ]
    },
    {
     "name": "stdout",
     "output_type": "stream",
     "text": [
      "+------+---------+---------+\n",
      "|      |  Train  |  Test   |\n",
      "+------+---------+---------+\n",
      "| loss | 0.03082 | 0.03971 |\n",
      "|  r2  | 0.9692  | 0.9603  |\n",
      "+------+---------+---------+\n",
      "\n",
      "Epoch 55/100\n"
     ]
    },
    {
     "name": "stderr",
     "output_type": "stream",
     "text": [
      "train 0: 100%|██████████| 75/75 [00:13<00:00,  5.74it/s, loss=0.0234, r2=0.9766]\n"
     ]
    },
    {
     "name": "stdout",
     "output_type": "stream",
     "text": [
      "+------+---------+---------+\n",
      "|      |  Train  |  Test   |\n",
      "+------+---------+---------+\n",
      "| loss | 0.03571 | 0.03736 |\n",
      "|  r2  | 0.9643  | 0.9626  |\n",
      "+------+---------+---------+\n",
      "\n",
      "Epoch 56/100\n"
     ]
    },
    {
     "name": "stderr",
     "output_type": "stream",
     "text": [
      "train 0: 100%|██████████| 75/75 [00:13<00:00,  5.73it/s, loss=0.0185, r2=0.9815]\n"
     ]
    },
    {
     "name": "stdout",
     "output_type": "stream",
     "text": [
      "+------+---------+---------+\n",
      "|      |  Train  |  Test   |\n",
      "+------+---------+---------+\n",
      "| loss | 0.03579 | 0.04273 |\n",
      "|  r2  | 0.9642  | 0.9573  |\n",
      "+------+---------+---------+\n",
      "\n",
      "Epoch 57/100\n"
     ]
    },
    {
     "name": "stderr",
     "output_type": "stream",
     "text": [
      "train 0: 100%|██████████| 75/75 [00:13<00:00,  5.72it/s, loss=0.0286, r2=0.9713]\n"
     ]
    },
    {
     "name": "stdout",
     "output_type": "stream",
     "text": [
      "+------+---------+---------+\n",
      "|      |  Train  |  Test   |\n",
      "+------+---------+---------+\n",
      "| loss | 0.03525 | 0.03413 |\n",
      "|  r2  | 0.9648  | 0.9659  |\n",
      "+------+---------+---------+\n",
      "\n",
      "Epoch 58/100\n"
     ]
    },
    {
     "name": "stderr",
     "output_type": "stream",
     "text": [
      "train 0: 100%|██████████| 75/75 [00:13<00:00,  5.73it/s, loss=0.0305, r2=0.9696]\n"
     ]
    },
    {
     "name": "stdout",
     "output_type": "stream",
     "text": [
      "+------+---------+---------+\n",
      "|      |  Train  |  Test   |\n",
      "+------+---------+---------+\n",
      "| loss | 0.03028 | 0.02894 |\n",
      "|  r2  | 0.9697  | 0.9711  |\n",
      "+------+---------+---------+\n",
      "\n",
      "Epoch 59/100\n"
     ]
    },
    {
     "name": "stderr",
     "output_type": "stream",
     "text": [
      "train 0: 100%|██████████| 75/75 [00:13<00:00,  5.72it/s, loss=0.0194, r2=0.9806]\n"
     ]
    },
    {
     "name": "stdout",
     "output_type": "stream",
     "text": [
      "+------+---------+---------+\n",
      "|      |  Train  |  Test   |\n",
      "+------+---------+---------+\n",
      "| loss | 0.03133 | 0.02472 |\n",
      "|  r2  | 0.9687  | 0.9753  |\n",
      "+------+---------+---------+\n",
      "\n",
      "Epoch 60/100\n"
     ]
    },
    {
     "name": "stderr",
     "output_type": "stream",
     "text": [
      "train 0: 100%|██████████| 75/75 [00:13<00:00,  5.73it/s, loss=0.0268, r2=0.9731]\n"
     ]
    },
    {
     "name": "stdout",
     "output_type": "stream",
     "text": [
      "+------+---------+---------+\n",
      "|      |  Train  |  Test   |\n",
      "+------+---------+---------+\n",
      "| loss | 0.03119 | 0.02851 |\n",
      "|  r2  | 0.9688  | 0.9715  |\n",
      "+------+---------+---------+\n",
      "\n",
      "Epoch 61/100\n"
     ]
    },
    {
     "name": "stderr",
     "output_type": "stream",
     "text": [
      "train 0: 100%|██████████| 75/75 [00:13<00:00,  5.74it/s, loss=0.0627, r2=0.9370]\n"
     ]
    },
    {
     "name": "stdout",
     "output_type": "stream",
     "text": [
      "+------+---------+---------+\n",
      "|      |  Train  |  Test   |\n",
      "+------+---------+---------+\n",
      "| loss | 0.02989 | 0.04204 |\n",
      "|  r2  | 0.9701  | 0.9580  |\n",
      "+------+---------+---------+\n",
      "\n",
      "Epoch 62/100\n"
     ]
    },
    {
     "name": "stderr",
     "output_type": "stream",
     "text": [
      "train 0: 100%|██████████| 75/75 [00:13<00:00,  5.74it/s, loss=0.0109, r2=0.9891]\n"
     ]
    },
    {
     "name": "stdout",
     "output_type": "stream",
     "text": [
      "+------+---------+---------+\n",
      "|      |  Train  |  Test   |\n",
      "+------+---------+---------+\n",
      "| loss | 0.03328 | 0.04123 |\n",
      "|  r2  | 0.9667  | 0.9588  |\n",
      "+------+---------+---------+\n",
      "\n",
      "Epoch 63/100\n"
     ]
    },
    {
     "name": "stderr",
     "output_type": "stream",
     "text": [
      "train 0: 100%|██████████| 75/75 [00:13<00:00,  5.74it/s, loss=0.0354, r2=0.9646]\n"
     ]
    },
    {
     "name": "stdout",
     "output_type": "stream",
     "text": [
      "+------+---------+---------+\n",
      "|      |  Train  |  Test   |\n",
      "+------+---------+---------+\n",
      "| loss | 0.03172 | 0.03362 |\n",
      "|  r2  | 0.9683  | 0.9664  |\n",
      "+------+---------+---------+\n",
      "\n",
      "Epoch 64/100\n"
     ]
    },
    {
     "name": "stderr",
     "output_type": "stream",
     "text": [
      "train 0: 100%|██████████| 75/75 [00:13<00:00,  5.74it/s, loss=0.0126, r2=0.9874]\n"
     ]
    },
    {
     "name": "stdout",
     "output_type": "stream",
     "text": [
      "+------+--------+---------+\n",
      "|      | Train  |  Test   |\n",
      "+------+--------+---------+\n",
      "| loss | 0.0335 | 0.03311 |\n",
      "|  r2  | 0.9665 | 0.9669  |\n",
      "+------+--------+---------+\n",
      "\n",
      "Epoch 65/100\n"
     ]
    },
    {
     "name": "stderr",
     "output_type": "stream",
     "text": [
      "train 0: 100%|██████████| 75/75 [00:13<00:00,  5.73it/s, loss=0.0165, r2=0.9834]\n"
     ]
    },
    {
     "name": "stdout",
     "output_type": "stream",
     "text": [
      "+------+---------+---------+\n",
      "|      |  Train  |  Test   |\n",
      "+------+---------+---------+\n",
      "| loss | 0.03132 | 0.02499 |\n",
      "|  r2  | 0.9687  | 0.9750  |\n",
      "+------+---------+---------+\n",
      "\n",
      "Epoch 66/100\n"
     ]
    },
    {
     "name": "stderr",
     "output_type": "stream",
     "text": [
      "train 0: 100%|██████████| 75/75 [00:13<00:00,  5.74it/s, loss=0.0235, r2=0.9766]\n"
     ]
    },
    {
     "name": "stdout",
     "output_type": "stream",
     "text": [
      "+------+---------+---------+\n",
      "|      |  Train  |  Test   |\n",
      "+------+---------+---------+\n",
      "| loss | 0.03206 | 0.04606 |\n",
      "|  r2  | 0.9679  | 0.9540  |\n",
      "+------+---------+---------+\n",
      "\n",
      "Epoch 67/100\n"
     ]
    },
    {
     "name": "stderr",
     "output_type": "stream",
     "text": [
      "train 0: 100%|██████████| 75/75 [00:13<00:00,  5.72it/s, loss=0.0159, r2=0.9841]\n"
     ]
    },
    {
     "name": "stdout",
     "output_type": "stream",
     "text": [
      "+------+--------+---------+\n",
      "|      | Train  |  Test   |\n",
      "+------+--------+---------+\n",
      "| loss | 0.0335 | 0.03482 |\n",
      "|  r2  | 0.9665 | 0.9652  |\n",
      "+------+--------+---------+\n",
      "\n",
      "Epoch 68/100\n"
     ]
    },
    {
     "name": "stderr",
     "output_type": "stream",
     "text": [
      "train 0: 100%|██████████| 75/75 [00:13<00:00,  5.74it/s, loss=0.0358, r2=0.9642]\n"
     ]
    },
    {
     "name": "stdout",
     "output_type": "stream",
     "text": [
      "+------+---------+---------+\n",
      "|      |  Train  |  Test   |\n",
      "+------+---------+---------+\n",
      "| loss | 0.03113 | 0.03515 |\n",
      "|  r2  | 0.9689  | 0.9648  |\n",
      "+------+---------+---------+\n",
      "\n",
      "Epoch 69/100\n"
     ]
    },
    {
     "name": "stderr",
     "output_type": "stream",
     "text": [
      "train 0: 100%|██████████| 75/75 [00:13<00:00,  5.71it/s, loss=0.0397, r2=0.9603]\n"
     ]
    },
    {
     "name": "stdout",
     "output_type": "stream",
     "text": [
      "+------+---------+---------+\n",
      "|      |  Train  |  Test   |\n",
      "+------+---------+---------+\n",
      "| loss | 0.03496 | 0.04039 |\n",
      "|  r2  | 0.9650  | 0.9596  |\n",
      "+------+---------+---------+\n",
      "\n",
      "Epoch 70/100\n"
     ]
    },
    {
     "name": "stderr",
     "output_type": "stream",
     "text": [
      "train 0: 100%|██████████| 75/75 [00:13<00:00,  5.74it/s, loss=0.0198, r2=0.9802]\n"
     ]
    },
    {
     "name": "stdout",
     "output_type": "stream",
     "text": [
      "+------+---------+---------+\n",
      "|      |  Train  |  Test   |\n",
      "+------+---------+---------+\n",
      "| loss | 0.03436 | 0.05163 |\n",
      "|  r2  | 0.9656  | 0.9484  |\n",
      "+------+---------+---------+\n",
      "\n",
      "Epoch 71/100\n"
     ]
    },
    {
     "name": "stderr",
     "output_type": "stream",
     "text": [
      "train 0: 100%|██████████| 75/75 [00:13<00:00,  5.72it/s, loss=0.0203, r2=0.9797]\n"
     ]
    },
    {
     "name": "stdout",
     "output_type": "stream",
     "text": [
      "+------+---------+---------+\n",
      "|      |  Train  |  Test   |\n",
      "+------+---------+---------+\n",
      "| loss | 0.03191 | 0.03374 |\n",
      "|  r2  | 0.9681  | 0.9663  |\n",
      "+------+---------+---------+\n",
      "\n",
      "Epoch 72/100\n"
     ]
    },
    {
     "name": "stderr",
     "output_type": "stream",
     "text": [
      "train 0: 100%|██████████| 75/75 [00:13<00:00,  5.71it/s, loss=0.0165, r2=0.9835]\n"
     ]
    },
    {
     "name": "stdout",
     "output_type": "stream",
     "text": [
      "+------+---------+---------+\n",
      "|      |  Train  |  Test   |\n",
      "+------+---------+---------+\n",
      "| loss | 0.03494 | 0.04337 |\n",
      "|  r2  | 0.9651  | 0.9567  |\n",
      "+------+---------+---------+\n",
      "\n",
      "Epoch 73/100\n"
     ]
    },
    {
     "name": "stderr",
     "output_type": "stream",
     "text": [
      "train 0: 100%|██████████| 75/75 [00:13<00:00,  5.73it/s, loss=0.0415, r2=0.9586]\n"
     ]
    },
    {
     "name": "stdout",
     "output_type": "stream",
     "text": [
      "+------+---------+---------+\n",
      "|      |  Train  |  Test   |\n",
      "+------+---------+---------+\n",
      "| loss | 0.03079 | 0.02193 |\n",
      "|  r2  | 0.9692  | 0.9781  |\n",
      "+------+---------+---------+\n",
      "saved epoch-73\n",
      "\n",
      "Epoch 74/100\n"
     ]
    },
    {
     "name": "stderr",
     "output_type": "stream",
     "text": [
      "train 0: 100%|██████████| 75/75 [00:13<00:00,  5.73it/s, loss=0.0125, r2=0.9875]\n"
     ]
    },
    {
     "name": "stdout",
     "output_type": "stream",
     "text": [
      "+------+---------+---------+\n",
      "|      |  Train  |  Test   |\n",
      "+------+---------+---------+\n",
      "| loss | 0.02951 | 0.03754 |\n",
      "|  r2  | 0.9705  | 0.9625  |\n",
      "+------+---------+---------+\n",
      "\n",
      "Epoch 75/100\n"
     ]
    },
    {
     "name": "stderr",
     "output_type": "stream",
     "text": [
      "train 0: 100%|██████████| 75/75 [00:13<00:00,  5.44it/s, loss=0.0234, r2=0.9766]\n"
     ]
    },
    {
     "name": "stdout",
     "output_type": "stream",
     "text": [
      "+------+---------+---------+\n",
      "|      |  Train  |  Test   |\n",
      "+------+---------+---------+\n",
      "| loss | 0.03434 | 0.04313 |\n",
      "|  r2  | 0.9657  | 0.9569  |\n",
      "+------+---------+---------+\n",
      "\n",
      "Epoch 76/100\n"
     ]
    },
    {
     "name": "stderr",
     "output_type": "stream",
     "text": [
      "train 0: 100%|██████████| 75/75 [00:13<00:00,  5.71it/s, loss=0.0292, r2=0.9707]\n"
     ]
    },
    {
     "name": "stdout",
     "output_type": "stream",
     "text": [
      "+------+---------+--------+\n",
      "|      |  Train  |  Test  |\n",
      "+------+---------+--------+\n",
      "| loss | 0.03053 | 0.0325 |\n",
      "|  r2  | 0.9695  | 0.9675 |\n",
      "+------+---------+--------+\n",
      "\n",
      "Epoch 77/100\n"
     ]
    },
    {
     "name": "stderr",
     "output_type": "stream",
     "text": [
      "train 0: 100%|██████████| 75/75 [00:13<00:00,  5.73it/s, loss=0.0202, r2=0.9798]\n"
     ]
    },
    {
     "name": "stdout",
     "output_type": "stream",
     "text": [
      "+------+---------+---------+\n",
      "|      |  Train  |  Test   |\n",
      "+------+---------+---------+\n",
      "| loss | 0.03178 | 0.03296 |\n",
      "|  r2  | 0.9682  | 0.9671  |\n",
      "+------+---------+---------+\n",
      "\n",
      "Epoch 78/100\n"
     ]
    },
    {
     "name": "stderr",
     "output_type": "stream",
     "text": [
      "train 0: 100%|██████████| 75/75 [00:13<00:00,  5.72it/s, loss=0.0151, r2=0.9849]\n"
     ]
    },
    {
     "name": "stdout",
     "output_type": "stream",
     "text": [
      "+------+---------+--------+\n",
      "|      |  Train  |  Test  |\n",
      "+------+---------+--------+\n",
      "| loss | 0.02833 | 0.0332 |\n",
      "|  r2  | 0.9717  | 0.9668 |\n",
      "+------+---------+--------+\n",
      "\n",
      "Epoch 79/100\n"
     ]
    },
    {
     "name": "stderr",
     "output_type": "stream",
     "text": [
      "train 0: 100%|██████████| 75/75 [00:13<00:00,  5.70it/s, loss=0.0168, r2=0.9832]\n"
     ]
    },
    {
     "name": "stdout",
     "output_type": "stream",
     "text": [
      "+------+---------+---------+\n",
      "|      |  Train  |  Test   |\n",
      "+------+---------+---------+\n",
      "| loss | 0.03174 | 0.03218 |\n",
      "|  r2  | 0.9683  | 0.9678  |\n",
      "+------+---------+---------+\n",
      "\n",
      "Epoch 80/100\n"
     ]
    },
    {
     "name": "stderr",
     "output_type": "stream",
     "text": [
      "train 0: 100%|██████████| 75/75 [00:13<00:00,  5.72it/s, loss=0.0103, r2=0.9897]\n"
     ]
    },
    {
     "name": "stdout",
     "output_type": "stream",
     "text": [
      "+------+---------+---------+\n",
      "|      |  Train  |  Test   |\n",
      "+------+---------+---------+\n",
      "| loss | 0.03085 | 0.02595 |\n",
      "|  r2  | 0.9692  | 0.9740  |\n",
      "+------+---------+---------+\n",
      "\n",
      "Epoch 81/100\n"
     ]
    },
    {
     "name": "stderr",
     "output_type": "stream",
     "text": [
      "train 0: 100%|██████████| 75/75 [00:13<00:00,  5.72it/s, loss=0.0275, r2=0.9725]\n"
     ]
    },
    {
     "name": "stdout",
     "output_type": "stream",
     "text": [
      "+------+---------+---------+\n",
      "|      |  Train  |  Test   |\n",
      "+------+---------+---------+\n",
      "| loss | 0.03292 | 0.01707 |\n",
      "|  r2  | 0.9671  | 0.9829  |\n",
      "+------+---------+---------+\n",
      "saved epoch-81\n",
      "\n",
      "Epoch 82/100\n"
     ]
    },
    {
     "name": "stderr",
     "output_type": "stream",
     "text": [
      "train 0: 100%|██████████| 75/75 [00:13<00:00,  5.73it/s, loss=0.0151, r2=0.9849]\n"
     ]
    },
    {
     "name": "stdout",
     "output_type": "stream",
     "text": [
      "+------+---------+---------+\n",
      "|      |  Train  |  Test   |\n",
      "+------+---------+---------+\n",
      "| loss | 0.02902 | 0.03398 |\n",
      "|  r2  | 0.9710  | 0.9660  |\n",
      "+------+---------+---------+\n",
      "\n",
      "Epoch 83/100\n"
     ]
    },
    {
     "name": "stderr",
     "output_type": "stream",
     "text": [
      "train 0: 100%|██████████| 75/75 [00:13<00:00,  5.72it/s, loss=0.1598, r2=0.8400]\n"
     ]
    },
    {
     "name": "stdout",
     "output_type": "stream",
     "text": [
      "+------+---------+---------+\n",
      "|      |  Train  |  Test   |\n",
      "+------+---------+---------+\n",
      "| loss | 0.03362 | 0.04278 |\n",
      "|  r2  | 0.9664  | 0.9572  |\n",
      "+------+---------+---------+\n",
      "\n",
      "Epoch 84/100\n"
     ]
    },
    {
     "name": "stderr",
     "output_type": "stream",
     "text": [
      "train 0: 100%|██████████| 75/75 [00:13<00:00,  5.72it/s, loss=0.0220, r2=0.9780]\n"
     ]
    },
    {
     "name": "stdout",
     "output_type": "stream",
     "text": [
      "+------+---------+---------+\n",
      "|      |  Train  |  Test   |\n",
      "+------+---------+---------+\n",
      "| loss | 0.02929 | 0.03398 |\n",
      "|  r2  | 0.9707  | 0.9660  |\n",
      "+------+---------+---------+\n",
      "\n",
      "Epoch 85/100\n"
     ]
    },
    {
     "name": "stderr",
     "output_type": "stream",
     "text": [
      "train 0: 100%|██████████| 75/75 [00:13<00:00,  5.71it/s, loss=0.0269, r2=0.9730]\n"
     ]
    },
    {
     "name": "stdout",
     "output_type": "stream",
     "text": [
      "+------+---------+---------+\n",
      "|      |  Train  |  Test   |\n",
      "+------+---------+---------+\n",
      "| loss | 0.03138 | 0.04506 |\n",
      "|  r2  | 0.9686  | 0.9550  |\n",
      "+------+---------+---------+\n",
      "\n",
      "Epoch 86/100\n"
     ]
    },
    {
     "name": "stderr",
     "output_type": "stream",
     "text": [
      "train 0: 100%|██████████| 75/75 [00:13<00:00,  5.70it/s, loss=0.0146, r2=0.9854]\n"
     ]
    },
    {
     "name": "stdout",
     "output_type": "stream",
     "text": [
      "+------+---------+---------+\n",
      "|      |  Train  |  Test   |\n",
      "+------+---------+---------+\n",
      "| loss | 0.03338 | 0.02482 |\n",
      "|  r2  | 0.9666  | 0.9752  |\n",
      "+------+---------+---------+\n",
      "\n",
      "Epoch 87/100\n"
     ]
    },
    {
     "name": "stderr",
     "output_type": "stream",
     "text": [
      "train 0: 100%|██████████| 75/75 [00:13<00:00,  5.71it/s, loss=0.0166, r2=0.9834]\n"
     ]
    },
    {
     "name": "stdout",
     "output_type": "stream",
     "text": [
      "+------+---------+---------+\n",
      "|      |  Train  |  Test   |\n",
      "+------+---------+---------+\n",
      "| loss | 0.03095 | 0.03051 |\n",
      "|  r2  | 0.9690  | 0.9695  |\n",
      "+------+---------+---------+\n",
      "\n",
      "Epoch 88/100\n"
     ]
    },
    {
     "name": "stderr",
     "output_type": "stream",
     "text": [
      "train 0: 100%|██████████| 75/75 [00:13<00:00,  5.72it/s, loss=0.0111, r2=0.9889]\n"
     ]
    },
    {
     "name": "stdout",
     "output_type": "stream",
     "text": [
      "+------+---------+--------+\n",
      "|      |  Train  |  Test  |\n",
      "+------+---------+--------+\n",
      "| loss | 0.03445 | 0.036  |\n",
      "|  r2  | 0.9655  | 0.9640 |\n",
      "+------+---------+--------+\n",
      "\n",
      "Epoch 89/100\n"
     ]
    },
    {
     "name": "stderr",
     "output_type": "stream",
     "text": [
      "train 0: 100%|██████████| 75/75 [00:13<00:00,  5.73it/s, loss=0.0369, r2=0.9631]\n"
     ]
    },
    {
     "name": "stdout",
     "output_type": "stream",
     "text": [
      "+------+---------+--------+\n",
      "|      |  Train  |  Test  |\n",
      "+------+---------+--------+\n",
      "| loss | 0.03089 | 0.0206 |\n",
      "|  r2  | 0.9691  | 0.9794 |\n",
      "+------+---------+--------+\n",
      "\n",
      "Epoch 90/100\n"
     ]
    },
    {
     "name": "stderr",
     "output_type": "stream",
     "text": [
      "train 0: 100%|██████████| 75/75 [00:13<00:00,  5.71it/s, loss=0.0171, r2=0.9829]\n"
     ]
    },
    {
     "name": "stdout",
     "output_type": "stream",
     "text": [
      "+------+---------+--------+\n",
      "|      |  Train  |  Test  |\n",
      "+------+---------+--------+\n",
      "| loss | 0.02945 | 0.0282 |\n",
      "|  r2  | 0.9706  | 0.9718 |\n",
      "+------+---------+--------+\n",
      "\n",
      "Epoch 91/100\n"
     ]
    },
    {
     "name": "stderr",
     "output_type": "stream",
     "text": [
      "train 0: 100%|██████████| 75/75 [00:13<00:00,  5.70it/s, loss=0.0130, r2=0.9870]\n"
     ]
    },
    {
     "name": "stdout",
     "output_type": "stream",
     "text": [
      "+------+---------+---------+\n",
      "|      |  Train  |  Test   |\n",
      "+------+---------+---------+\n",
      "| loss | 0.02751 | 0.02207 |\n",
      "|  r2  | 0.9725  | 0.9779  |\n",
      "+------+---------+---------+\n",
      "\n",
      "Epoch 92/100\n"
     ]
    },
    {
     "name": "stderr",
     "output_type": "stream",
     "text": [
      "train 0: 100%|██████████| 75/75 [00:13<00:00,  5.72it/s, loss=0.0252, r2=0.9749]\n"
     ]
    },
    {
     "name": "stdout",
     "output_type": "stream",
     "text": [
      "+------+---------+---------+\n",
      "|      |  Train  |  Test   |\n",
      "+------+---------+---------+\n",
      "| loss | 0.03135 | 0.02138 |\n",
      "|  r2  | 0.9686  | 0.9786  |\n",
      "+------+---------+---------+\n",
      "\n",
      "Epoch 93/100\n"
     ]
    },
    {
     "name": "stderr",
     "output_type": "stream",
     "text": [
      "train 0: 100%|██████████| 75/75 [00:13<00:00,  5.73it/s, loss=0.0253, r2=0.9747]\n"
     ]
    },
    {
     "name": "stdout",
     "output_type": "stream",
     "text": [
      "+------+---------+---------+\n",
      "|      |  Train  |  Test   |\n",
      "+------+---------+---------+\n",
      "| loss | 0.03097 | 0.02025 |\n",
      "|  r2  | 0.9690  | 0.9798  |\n",
      "+------+---------+---------+\n",
      "\n",
      "Epoch 94/100\n"
     ]
    },
    {
     "name": "stderr",
     "output_type": "stream",
     "text": [
      "train 0: 100%|██████████| 75/75 [00:13<00:00,  5.71it/s, loss=0.0149, r2=0.9850]\n"
     ]
    },
    {
     "name": "stdout",
     "output_type": "stream",
     "text": [
      "+------+---------+---------+\n",
      "|      |  Train  |  Test   |\n",
      "+------+---------+---------+\n",
      "| loss | 0.02962 | 0.02301 |\n",
      "|  r2  | 0.9704  | 0.9770  |\n",
      "+------+---------+---------+\n",
      "\n",
      "Epoch 95/100\n"
     ]
    },
    {
     "name": "stderr",
     "output_type": "stream",
     "text": [
      "train 0: 100%|██████████| 75/75 [00:13<00:00,  5.72it/s, loss=0.0461, r2=0.9538]\n"
     ]
    },
    {
     "name": "stdout",
     "output_type": "stream",
     "text": [
      "+------+---------+---------+\n",
      "|      |  Train  |  Test   |\n",
      "+------+---------+---------+\n",
      "| loss | 0.03322 | 0.02284 |\n",
      "|  r2  | 0.9668  | 0.9772  |\n",
      "+------+---------+---------+\n",
      "\n",
      "Epoch 96/100\n"
     ]
    },
    {
     "name": "stderr",
     "output_type": "stream",
     "text": [
      "train 0: 100%|██████████| 75/75 [00:13<00:00,  5.71it/s, loss=0.0165, r2=0.9835]\n"
     ]
    },
    {
     "name": "stdout",
     "output_type": "stream",
     "text": [
      "+------+---------+---------+\n",
      "|      |  Train  |  Test   |\n",
      "+------+---------+---------+\n",
      "| loss | 0.03185 | 0.02169 |\n",
      "|  r2  | 0.9681  | 0.9783  |\n",
      "+------+---------+---------+\n",
      "\n",
      "Epoch 97/100\n"
     ]
    },
    {
     "name": "stderr",
     "output_type": "stream",
     "text": [
      "train 0: 100%|██████████| 75/75 [00:13<00:00,  5.70it/s, loss=0.0250, r2=0.9751]\n"
     ]
    },
    {
     "name": "stdout",
     "output_type": "stream",
     "text": [
      "+------+---------+---------+\n",
      "|      |  Train  |  Test   |\n",
      "+------+---------+---------+\n",
      "| loss | 0.03153 | 0.02728 |\n",
      "|  r2  | 0.9685  | 0.9727  |\n",
      "+------+---------+---------+\n",
      "\n",
      "Epoch 98/100\n"
     ]
    },
    {
     "name": "stderr",
     "output_type": "stream",
     "text": [
      "train 0: 100%|██████████| 75/75 [00:13<00:00,  5.72it/s, loss=0.0551, r2=0.9449]\n"
     ]
    },
    {
     "name": "stdout",
     "output_type": "stream",
     "text": [
      "+------+---------+---------+\n",
      "|      |  Train  |  Test   |\n",
      "+------+---------+---------+\n",
      "| loss | 0.03416 | 0.05259 |\n",
      "|  r2  | 0.9659  | 0.9474  |\n",
      "+------+---------+---------+\n",
      "\n",
      "Epoch 99/100\n"
     ]
    },
    {
     "name": "stderr",
     "output_type": "stream",
     "text": [
      "train 0: 100%|██████████| 75/75 [00:13<00:00,  5.71it/s, loss=0.0173, r2=0.9828]\n"
     ]
    },
    {
     "name": "stdout",
     "output_type": "stream",
     "text": [
      "+------+---------+---------+\n",
      "|      |  Train  |  Test   |\n",
      "+------+---------+---------+\n",
      "| loss | 0.03419 | 0.03114 |\n",
      "|  r2  | 0.9658  | 0.9689  |\n",
      "+------+---------+---------+\n",
      "\n",
      "Epoch 100/100\n"
     ]
    },
    {
     "name": "stderr",
     "output_type": "stream",
     "text": [
      "train 0: 100%|██████████| 75/75 [00:13<00:00,  5.40it/s, loss=0.0508, r2=0.9493]\n"
     ]
    },
    {
     "name": "stdout",
     "output_type": "stream",
     "text": [
      "+------+--------+---------+\n",
      "|      | Train  |  Test   |\n",
      "+------+--------+---------+\n",
      "| loss | 0.0298 | 0.02258 |\n",
      "|  r2  | 0.9702 | 0.9774  |\n",
      "+------+--------+---------+\n"
     ]
    }
   ],
   "source": [
    "from kemsekov_torch.train import *\n",
    "import warnings\n",
    "warnings.filterwarnings(\"ignore\")\n",
    "\n",
    "def r2_score(predictions: torch.Tensor, targets: torch.Tensor) -> float:\n",
    "    \"\"\"\n",
    "    Computes the R² (coefficient of determination) metric.\n",
    "\n",
    "    Args:\n",
    "        predictions (torch.Tensor): Predicted values tensor.\n",
    "        targets (torch.Tensor): Actual target values tensor.\n",
    "\n",
    "    Returns:\n",
    "        float: R² score representing how well the predictions approximate the targets.\n",
    "    \"\"\"\n",
    "    # Compute the total sum of squares (variance of the target)\n",
    "    target_mean = torch.mean(targets)\n",
    "    total_variance = torch.sum((targets - target_mean) ** 2)\n",
    "    \n",
    "    # Compute the residual sum of squares128\n",
    "    residual_variance = torch.sum((targets - predictions) ** 2)\n",
    "    \n",
    "    # Calculate the R² score\n",
    "    r2 = 1 - (residual_variance / total_variance)\n",
    "    \n",
    "    return r2.item()\n",
    "\n",
    "timesteps=128\n",
    "diff_util = DiffusionUtils(timesteps)\n",
    "\n",
    "def compute_loss_and_metric(model,batch):\n",
    "    image,desc = batch\n",
    "    image=(image-images_mean.to(image.device))/images_std.to(image.device)\n",
    "    time = torch.randint(0,timesteps-1,(len(image),))\n",
    "    noised_samples,noise = diff_util.diffusion_forward(image,time)\n",
    "    pred_noise = model(noised_samples,time)\n",
    "    \n",
    "    loss = torch.mean((pred_noise-noise)**2)\n",
    "    return loss,{\n",
    "        'r2':r2_score(pred_noise,noise),\n",
    "    }\n",
    "\n",
    "# it works better without scheduler \n",
    "epochs = 100\n",
    "optim = torch.optim.AdamW(diff.parameters(),lr=1e-3)\n",
    "sch = torch.optim.lr_scheduler.CosineAnnealingLR(optim,len(train_loader)*epochs)\n",
    "\n",
    "path = \"runs/diffusion\"\n",
    "_ = train(\n",
    "    diff,\n",
    "    train_loader,\n",
    "    test_loader,\n",
    "    compute_loss_and_metric,\n",
    "    path,\n",
    "    # os.path.join(path,'last'),\n",
    "    scheduler=sch,\n",
    "    optimizer=optim,\n",
    "    gradient_clipping_max_norm=1,\n",
    "    accelerate_args={\n",
    "        'mixed_precision':'bf16',\n",
    "        'dynamo_backend':'inductor', #painfully slow starts\n",
    "        # 'gradient_accumulation_steps':4\n",
    "    },\n",
    "    save_on_metric_improve=['r2'],\n",
    "    num_epochs=epochs,\n",
    ")"
   ]
  },
  {
   "cell_type": "code",
   "execution_count": 70,
   "metadata": {},
   "outputs": [
    {
     "name": "stdout",
     "output_type": "stream",
     "text": [
      "loading runs/diffusion/checkpoints/epoch-81/state\n"
     ]
    }
   ],
   "source": [
    "diff = torch.jit.load(os.path.join(path,'model.pt'))\n",
    "diff=load_checkpoint(diff,path,-1)\n",
    "# diff=load_last_checkpoint(diff,path)\n",
    "diff=diff.eval().cuda().float()"
   ]
  },
  {
   "cell_type": "code",
   "execution_count": 86,
   "metadata": {},
   "outputs": [
    {
     "name": "stdout",
     "output_type": "stream",
     "text": [
      "tensor(0.1564) tensor(0.9112)\n"
     ]
    },
    {
     "data": {
      "image/jpeg": "[encoded data removed]",
      "image/png": "[encoded data removed]",
      "text/plain": [
       "<PIL.Image.Image image mode=RGB size=128x128>"
      ]
     },
     "execution_count": 86,
     "metadata": {},
     "output_type": "execute_result"
    }
   ],
   "source": [
    "inference_timesteps = 64\n",
    "# torch.random.manual_seed(1)\n",
    "pred = sample(diff,(1,in_channels,128,128),128,inference_timesteps,regenerate_noise=True,normalize_pred=True).cpu()#.sigmoid()\n",
    "print(pred.mean(),pred.std())\n",
    "pred-=pred.min()\n",
    "pred/=pred.max()\n",
    "T.ToPILImage()(pred[0])"
   ]
  }
 ],
 "metadata": {
  "kernelspec": {
   "display_name": "venv",
   "language": "python",
   "name": "python3"
  },
  "language_info": {
   "codemirror_mode": {
    "name": "ipython",
    "version": 3
   },
   "file_extension": ".py",
   "mimetype": "text/x-python",
   "name": "python",
   "nbconvert_exporter": "python",
   "pygments_lexer": "ipython3",
   "version": "3.12.3"
  }
 },
 "nbformat": 4,
 "nbformat_minor": 2
}
